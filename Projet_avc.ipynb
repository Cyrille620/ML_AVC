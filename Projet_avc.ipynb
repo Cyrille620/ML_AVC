{
  "nbformat": 4,
  "nbformat_minor": 0,
  "metadata": {
    "colab": {
      "name": "Projet_avc.ipynb",
      "provenance": [],
      "collapsed_sections": [
        "xkX-8ExBFH7S",
        "MZGwwqkomeE5",
        "euc1GIoOyxHK",
        "D6urOy230TN6",
        "X_jtTXZOM-_j"
      ]
    },
    "kernelspec": {
      "display_name": "Python 3",
      "name": "python3"
    },
    "language_info": {
      "name": "python"
    }
  },
  "cells": [
    {
      "cell_type": "markdown",
      "metadata": {
        "id": "Ylqttwh_FSsy"
      },
      "source": [
        "#### Projet AVC"
      ]
    },
    {
      "cell_type": "code",
      "metadata": {
        "id": "MoxlyJj13Pdy"
      },
      "source": [
        "import os\n",
        "import pandas as pd\n",
        "import numpy as np\n",
        "import matplotlib.pyplot as plt\n",
        "import seaborn as sns"
      ],
      "execution_count": null,
      "outputs": []
    },
    {
      "cell_type": "code",
      "metadata": {
        "colab": {
          "base_uri": "https://localhost:8080/"
        },
        "id": "0Bj_ykWb3Uuz",
        "outputId": "e16f430d-30f2-4774-daf8-3084c6c862b9"
      },
      "source": [
        "from google.colab import drive\n",
        "drive.mount('/content/drive')"
      ],
      "execution_count": null,
      "outputs": [
        {
          "output_type": "stream",
          "text": [
            "Drive already mounted at /content/drive; to attempt to forcibly remount, call drive.mount(\"/content/drive\", force_remount=True).\n"
          ],
          "name": "stdout"
        }
      ]
    },
    {
      "cell_type": "code",
      "metadata": {
        "id": "McnURV8rKPx6"
      },
      "source": [
        "os.chdir('drive')\n",
        "os.listdir('Mydrives/ProjetAVC/data_colabs')\n",
        "\n",
        "#os.listdir('MyDrive/data_colabs')"
      ],
      "execution_count": null,
      "outputs": []
    },
    {
      "cell_type": "markdown",
      "metadata": {
        "id": "xkX-8ExBFH7S"
      },
      "source": [
        "#### Importation des données"
      ]
    },
    {
      "cell_type": "code",
      "metadata": {
        "colab": {
          "base_uri": "https://localhost:8080/",
          "height": 197
        },
        "id": "Mv_9ZsGBKZyK",
        "outputId": "b29be877-b179-46c3-e716-f52d4a28c690"
      },
      "source": [
        "data = pd.read_csv('Shareddrives/ProjetAVC/data_colabs/healthcare_data.csv', sep=\",\")\n",
        "data.head()"
      ],
      "execution_count": null,
      "outputs": [
        {
          "output_type": "execute_result",
          "data": {
            "text/html": [
              "<div>\n",
              "<style scoped>\n",
              "    .dataframe tbody tr th:only-of-type {\n",
              "        vertical-align: middle;\n",
              "    }\n",
              "\n",
              "    .dataframe tbody tr th {\n",
              "        vertical-align: top;\n",
              "    }\n",
              "\n",
              "    .dataframe thead th {\n",
              "        text-align: right;\n",
              "    }\n",
              "</style>\n",
              "<table border=\"1\" class=\"dataframe\">\n",
              "  <thead>\n",
              "    <tr style=\"text-align: right;\">\n",
              "      <th></th>\n",
              "      <th>id</th>\n",
              "      <th>gender</th>\n",
              "      <th>age</th>\n",
              "      <th>hypertension</th>\n",
              "      <th>heart_disease</th>\n",
              "      <th>ever_married</th>\n",
              "      <th>work_type</th>\n",
              "      <th>Residence_type</th>\n",
              "      <th>avg_glucose_level</th>\n",
              "      <th>bmi</th>\n",
              "      <th>smoking_status</th>\n",
              "      <th>stroke</th>\n",
              "    </tr>\n",
              "  </thead>\n",
              "  <tbody>\n",
              "    <tr>\n",
              "      <th>0</th>\n",
              "      <td>9046</td>\n",
              "      <td>Male</td>\n",
              "      <td>67.0</td>\n",
              "      <td>0</td>\n",
              "      <td>1</td>\n",
              "      <td>Yes</td>\n",
              "      <td>Private</td>\n",
              "      <td>Urban</td>\n",
              "      <td>228.69</td>\n",
              "      <td>36.6</td>\n",
              "      <td>formerly smoked</td>\n",
              "      <td>1</td>\n",
              "    </tr>\n",
              "    <tr>\n",
              "      <th>1</th>\n",
              "      <td>51676</td>\n",
              "      <td>Female</td>\n",
              "      <td>61.0</td>\n",
              "      <td>0</td>\n",
              "      <td>0</td>\n",
              "      <td>Yes</td>\n",
              "      <td>Self-employed</td>\n",
              "      <td>Rural</td>\n",
              "      <td>202.21</td>\n",
              "      <td>NaN</td>\n",
              "      <td>never smoked</td>\n",
              "      <td>1</td>\n",
              "    </tr>\n",
              "    <tr>\n",
              "      <th>2</th>\n",
              "      <td>31112</td>\n",
              "      <td>Male</td>\n",
              "      <td>80.0</td>\n",
              "      <td>0</td>\n",
              "      <td>1</td>\n",
              "      <td>Yes</td>\n",
              "      <td>Private</td>\n",
              "      <td>Rural</td>\n",
              "      <td>105.92</td>\n",
              "      <td>32.5</td>\n",
              "      <td>never smoked</td>\n",
              "      <td>1</td>\n",
              "    </tr>\n",
              "    <tr>\n",
              "      <th>3</th>\n",
              "      <td>60182</td>\n",
              "      <td>Female</td>\n",
              "      <td>49.0</td>\n",
              "      <td>0</td>\n",
              "      <td>0</td>\n",
              "      <td>Yes</td>\n",
              "      <td>Private</td>\n",
              "      <td>Urban</td>\n",
              "      <td>171.23</td>\n",
              "      <td>34.4</td>\n",
              "      <td>smokes</td>\n",
              "      <td>1</td>\n",
              "    </tr>\n",
              "    <tr>\n",
              "      <th>4</th>\n",
              "      <td>1665</td>\n",
              "      <td>Female</td>\n",
              "      <td>79.0</td>\n",
              "      <td>1</td>\n",
              "      <td>0</td>\n",
              "      <td>Yes</td>\n",
              "      <td>Self-employed</td>\n",
              "      <td>Rural</td>\n",
              "      <td>174.12</td>\n",
              "      <td>24.0</td>\n",
              "      <td>never smoked</td>\n",
              "      <td>1</td>\n",
              "    </tr>\n",
              "  </tbody>\n",
              "</table>\n",
              "</div>"
            ],
            "text/plain": [
              "      id  gender   age  ...   bmi   smoking_status stroke\n",
              "0   9046    Male  67.0  ...  36.6  formerly smoked      1\n",
              "1  51676  Female  61.0  ...   NaN     never smoked      1\n",
              "2  31112    Male  80.0  ...  32.5     never smoked      1\n",
              "3  60182  Female  49.0  ...  34.4           smokes      1\n",
              "4   1665  Female  79.0  ...  24.0     never smoked      1\n",
              "\n",
              "[5 rows x 12 columns]"
            ]
          },
          "metadata": {
            "tags": []
          },
          "execution_count": 4
        }
      ]
    },
    {
      "cell_type": "code",
      "metadata": {
        "colab": {
          "base_uri": "https://localhost:8080/"
        },
        "id": "QK_9wO9CDkim",
        "outputId": "b4a238ee-450a-4e62-8d76-eab0a174d7e7"
      },
      "source": [
        "# Vérification de l'unicité des données\n",
        "data.nunique()"
      ],
      "execution_count": null,
      "outputs": [
        {
          "output_type": "execute_result",
          "data": {
            "text/plain": [
              "id                   5110\n",
              "gender                  3\n",
              "age                   104\n",
              "hypertension            2\n",
              "heart_disease           2\n",
              "ever_married            2\n",
              "work_type               5\n",
              "Residence_type          2\n",
              "avg_glucose_level    3979\n",
              "bmi                   418\n",
              "smoking_status          4\n",
              "stroke                  2\n",
              "dtype: int64"
            ]
          },
          "metadata": {
            "tags": []
          },
          "execution_count": 6
        }
      ]
    },
    {
      "cell_type": "code",
      "metadata": {
        "colab": {
          "base_uri": "https://localhost:8080/"
        },
        "id": "kakdJOQ-ZbXW",
        "outputId": "76e98252-83ca-40bc-9904-1cf3b174778c"
      },
      "source": [
        "# On spécifie l'index de notre JDD qui correspond à \"id\"\n",
        "data.set_index(\"id\", inplace=True)\n",
        "data.head(2)"
      ],
      "execution_count": null,
      "outputs": [
        {
          "output_type": "execute_result",
          "data": {
            "text/html": [
              "<div>\n",
              "<style scoped>\n",
              "    .dataframe tbody tr th:only-of-type {\n",
              "        vertical-align: middle;\n",
              "    }\n",
              "\n",
              "    .dataframe tbody tr th {\n",
              "        vertical-align: top;\n",
              "    }\n",
              "\n",
              "    .dataframe thead th {\n",
              "        text-align: right;\n",
              "    }\n",
              "</style>\n",
              "<table border=\"1\" class=\"dataframe\">\n",
              "  <thead>\n",
              "    <tr style=\"text-align: right;\">\n",
              "      <th></th>\n",
              "      <th>gender</th>\n",
              "      <th>age</th>\n",
              "      <th>hypertension</th>\n",
              "      <th>heart_disease</th>\n",
              "      <th>ever_married</th>\n",
              "      <th>work_type</th>\n",
              "      <th>Residence_type</th>\n",
              "      <th>avg_glucose_level</th>\n",
              "      <th>bmi</th>\n",
              "      <th>smoking_status</th>\n",
              "      <th>stroke</th>\n",
              "    </tr>\n",
              "    <tr>\n",
              "      <th>id</th>\n",
              "      <th></th>\n",
              "      <th></th>\n",
              "      <th></th>\n",
              "      <th></th>\n",
              "      <th></th>\n",
              "      <th></th>\n",
              "      <th></th>\n",
              "      <th></th>\n",
              "      <th></th>\n",
              "      <th></th>\n",
              "      <th></th>\n",
              "    </tr>\n",
              "  </thead>\n",
              "  <tbody>\n",
              "    <tr>\n",
              "      <th>9046</th>\n",
              "      <td>Male</td>\n",
              "      <td>67.0</td>\n",
              "      <td>0</td>\n",
              "      <td>1</td>\n",
              "      <td>Yes</td>\n",
              "      <td>Private</td>\n",
              "      <td>Urban</td>\n",
              "      <td>228.69</td>\n",
              "      <td>36.6</td>\n",
              "      <td>formerly smoked</td>\n",
              "      <td>1</td>\n",
              "    </tr>\n",
              "    <tr>\n",
              "      <th>51676</th>\n",
              "      <td>Female</td>\n",
              "      <td>61.0</td>\n",
              "      <td>0</td>\n",
              "      <td>0</td>\n",
              "      <td>Yes</td>\n",
              "      <td>Self-employed</td>\n",
              "      <td>Rural</td>\n",
              "      <td>202.21</td>\n",
              "      <td>NaN</td>\n",
              "      <td>never smoked</td>\n",
              "      <td>1</td>\n",
              "    </tr>\n",
              "  </tbody>\n",
              "</table>\n",
              "</div>"
            ],
            "text/plain": [
              "       gender   age  hypertension  ...   bmi   smoking_status stroke\n",
              "id                                 ...                              \n",
              "9046     Male  67.0             0  ...  36.6  formerly smoked      1\n",
              "51676  Female  61.0             0  ...   NaN     never smoked      1\n",
              "\n",
              "[2 rows x 11 columns]"
            ]
          },
          "metadata": {
            "tags": []
          },
          "execution_count": 7
        }
      ]
    },
    {
      "cell_type": "markdown",
      "metadata": {
        "id": "VtjBPmMfMo1m"
      },
      "source": [
        "##### Structure des données"
      ]
    },
    {
      "cell_type": "code",
      "metadata": {
        "colab": {
          "base_uri": "https://localhost:8080/"
        },
        "id": "TIRQlP1HIl0R",
        "outputId": "95c8e8e1-916d-4c77-9cc0-b27ae9753e4d"
      },
      "source": [
        "data.work_type.unique()"
      ],
      "execution_count": null,
      "outputs": [
        {
          "output_type": "execute_result",
          "data": {
            "text/plain": [
              "array(['Private', 'Self-employed', 'Govt_job', 'children', 'Never_worked'],\n",
              "      dtype=object)"
            ]
          },
          "metadata": {
            "tags": []
          },
          "execution_count": 8
        }
      ]
    },
    {
      "cell_type": "code",
      "metadata": {
        "colab": {
          "base_uri": "https://localhost:8080/"
        },
        "id": "xVXJSCRbIzR6",
        "outputId": "11d1278d-0cbc-4e89-f54e-5258b6f36c4c"
      },
      "source": [
        "data[data.work_type==\"children\"]"
      ],
      "execution_count": null,
      "outputs": [
        {
          "output_type": "execute_result",
          "data": {
            "text/html": [
              "<div>\n",
              "<style scoped>\n",
              "    .dataframe tbody tr th:only-of-type {\n",
              "        vertical-align: middle;\n",
              "    }\n",
              "\n",
              "    .dataframe tbody tr th {\n",
              "        vertical-align: top;\n",
              "    }\n",
              "\n",
              "    .dataframe thead th {\n",
              "        text-align: right;\n",
              "    }\n",
              "</style>\n",
              "<table border=\"1\" class=\"dataframe\">\n",
              "  <thead>\n",
              "    <tr style=\"text-align: right;\">\n",
              "      <th></th>\n",
              "      <th>gender</th>\n",
              "      <th>age</th>\n",
              "      <th>hypertension</th>\n",
              "      <th>heart_disease</th>\n",
              "      <th>ever_married</th>\n",
              "      <th>work_type</th>\n",
              "      <th>Residence_type</th>\n",
              "      <th>avg_glucose_level</th>\n",
              "      <th>bmi</th>\n",
              "      <th>smoking_status</th>\n",
              "      <th>stroke</th>\n",
              "    </tr>\n",
              "    <tr>\n",
              "      <th>id</th>\n",
              "      <th></th>\n",
              "      <th></th>\n",
              "      <th></th>\n",
              "      <th></th>\n",
              "      <th></th>\n",
              "      <th></th>\n",
              "      <th></th>\n",
              "      <th></th>\n",
              "      <th></th>\n",
              "      <th></th>\n",
              "      <th></th>\n",
              "    </tr>\n",
              "  </thead>\n",
              "  <tbody>\n",
              "    <tr>\n",
              "      <th>69768</th>\n",
              "      <td>Female</td>\n",
              "      <td>1.32</td>\n",
              "      <td>0</td>\n",
              "      <td>0</td>\n",
              "      <td>No</td>\n",
              "      <td>children</td>\n",
              "      <td>Urban</td>\n",
              "      <td>70.37</td>\n",
              "      <td>NaN</td>\n",
              "      <td>Unknown</td>\n",
              "      <td>1</td>\n",
              "    </tr>\n",
              "    <tr>\n",
              "      <th>49669</th>\n",
              "      <td>Female</td>\n",
              "      <td>14.00</td>\n",
              "      <td>0</td>\n",
              "      <td>0</td>\n",
              "      <td>No</td>\n",
              "      <td>children</td>\n",
              "      <td>Rural</td>\n",
              "      <td>57.93</td>\n",
              "      <td>30.9</td>\n",
              "      <td>Unknown</td>\n",
              "      <td>1</td>\n",
              "    </tr>\n",
              "    <tr>\n",
              "      <th>30669</th>\n",
              "      <td>Male</td>\n",
              "      <td>3.00</td>\n",
              "      <td>0</td>\n",
              "      <td>0</td>\n",
              "      <td>No</td>\n",
              "      <td>children</td>\n",
              "      <td>Rural</td>\n",
              "      <td>95.12</td>\n",
              "      <td>18.0</td>\n",
              "      <td>Unknown</td>\n",
              "      <td>0</td>\n",
              "    </tr>\n",
              "    <tr>\n",
              "      <th>33759</th>\n",
              "      <td>Female</td>\n",
              "      <td>3.00</td>\n",
              "      <td>0</td>\n",
              "      <td>0</td>\n",
              "      <td>No</td>\n",
              "      <td>children</td>\n",
              "      <td>Urban</td>\n",
              "      <td>73.74</td>\n",
              "      <td>16.0</td>\n",
              "      <td>Unknown</td>\n",
              "      <td>0</td>\n",
              "    </tr>\n",
              "    <tr>\n",
              "      <th>55680</th>\n",
              "      <td>Male</td>\n",
              "      <td>13.00</td>\n",
              "      <td>0</td>\n",
              "      <td>0</td>\n",
              "      <td>No</td>\n",
              "      <td>children</td>\n",
              "      <td>Urban</td>\n",
              "      <td>114.84</td>\n",
              "      <td>18.3</td>\n",
              "      <td>Unknown</td>\n",
              "      <td>0</td>\n",
              "    </tr>\n",
              "    <tr>\n",
              "      <th>...</th>\n",
              "      <td>...</td>\n",
              "      <td>...</td>\n",
              "      <td>...</td>\n",
              "      <td>...</td>\n",
              "      <td>...</td>\n",
              "      <td>...</td>\n",
              "      <td>...</td>\n",
              "      <td>...</td>\n",
              "      <td>...</td>\n",
              "      <td>...</td>\n",
              "      <td>...</td>\n",
              "    </tr>\n",
              "    <tr>\n",
              "      <th>56714</th>\n",
              "      <td>Female</td>\n",
              "      <td>0.72</td>\n",
              "      <td>0</td>\n",
              "      <td>0</td>\n",
              "      <td>No</td>\n",
              "      <td>children</td>\n",
              "      <td>Rural</td>\n",
              "      <td>62.13</td>\n",
              "      <td>16.8</td>\n",
              "      <td>Unknown</td>\n",
              "      <td>0</td>\n",
              "    </tr>\n",
              "    <tr>\n",
              "      <th>28048</th>\n",
              "      <td>Male</td>\n",
              "      <td>13.00</td>\n",
              "      <td>0</td>\n",
              "      <td>0</td>\n",
              "      <td>No</td>\n",
              "      <td>children</td>\n",
              "      <td>Urban</td>\n",
              "      <td>82.38</td>\n",
              "      <td>24.3</td>\n",
              "      <td>Unknown</td>\n",
              "      <td>0</td>\n",
              "    </tr>\n",
              "    <tr>\n",
              "      <th>68598</th>\n",
              "      <td>Male</td>\n",
              "      <td>1.08</td>\n",
              "      <td>0</td>\n",
              "      <td>0</td>\n",
              "      <td>No</td>\n",
              "      <td>children</td>\n",
              "      <td>Rural</td>\n",
              "      <td>79.15</td>\n",
              "      <td>17.4</td>\n",
              "      <td>Unknown</td>\n",
              "      <td>0</td>\n",
              "    </tr>\n",
              "    <tr>\n",
              "      <th>579</th>\n",
              "      <td>Male</td>\n",
              "      <td>9.00</td>\n",
              "      <td>0</td>\n",
              "      <td>0</td>\n",
              "      <td>No</td>\n",
              "      <td>children</td>\n",
              "      <td>Urban</td>\n",
              "      <td>71.88</td>\n",
              "      <td>17.5</td>\n",
              "      <td>Unknown</td>\n",
              "      <td>0</td>\n",
              "    </tr>\n",
              "    <tr>\n",
              "      <th>14180</th>\n",
              "      <td>Female</td>\n",
              "      <td>13.00</td>\n",
              "      <td>0</td>\n",
              "      <td>0</td>\n",
              "      <td>No</td>\n",
              "      <td>children</td>\n",
              "      <td>Rural</td>\n",
              "      <td>103.08</td>\n",
              "      <td>18.6</td>\n",
              "      <td>Unknown</td>\n",
              "      <td>0</td>\n",
              "    </tr>\n",
              "  </tbody>\n",
              "</table>\n",
              "<p>687 rows × 11 columns</p>\n",
              "</div>"
            ],
            "text/plain": [
              "       gender    age  hypertension  ...   bmi smoking_status stroke\n",
              "id                                  ...                            \n",
              "69768  Female   1.32             0  ...   NaN        Unknown      1\n",
              "49669  Female  14.00             0  ...  30.9        Unknown      1\n",
              "30669    Male   3.00             0  ...  18.0        Unknown      0\n",
              "33759  Female   3.00             0  ...  16.0        Unknown      0\n",
              "55680    Male  13.00             0  ...  18.3        Unknown      0\n",
              "...       ...    ...           ...  ...   ...            ...    ...\n",
              "56714  Female   0.72             0  ...  16.8        Unknown      0\n",
              "28048    Male  13.00             0  ...  24.3        Unknown      0\n",
              "68598    Male   1.08             0  ...  17.4        Unknown      0\n",
              "579      Male   9.00             0  ...  17.5        Unknown      0\n",
              "14180  Female  13.00             0  ...  18.6        Unknown      0\n",
              "\n",
              "[687 rows x 11 columns]"
            ]
          },
          "metadata": {
            "tags": []
          },
          "execution_count": 9
        }
      ]
    },
    {
      "cell_type": "code",
      "metadata": {
        "colab": {
          "base_uri": "https://localhost:8080/"
        },
        "id": "p670WM2uEo9q",
        "outputId": "a97fb761-8f75-4fa6-ce5e-b8cd667689f9"
      },
      "source": [
        "data.Residence_type.unique()"
      ],
      "execution_count": null,
      "outputs": [
        {
          "output_type": "execute_result",
          "data": {
            "text/plain": [
              "array(['Urban', 'Rural'], dtype=object)"
            ]
          },
          "metadata": {
            "tags": []
          },
          "execution_count": 10
        }
      ]
    },
    {
      "cell_type": "code",
      "metadata": {
        "colab": {
          "base_uri": "https://localhost:8080/"
        },
        "id": "EoHRknEIE7XE",
        "outputId": "00e48911-3c07-429b-e09c-782045fc0201"
      },
      "source": [
        "data.smoking_status.unique()"
      ],
      "execution_count": null,
      "outputs": [
        {
          "output_type": "execute_result",
          "data": {
            "text/plain": [
              "array(['formerly smoked', 'never smoked', 'smokes', 'Unknown'],\n",
              "      dtype=object)"
            ]
          },
          "metadata": {
            "tags": []
          },
          "execution_count": 11
        }
      ]
    },
    {
      "cell_type": "code",
      "metadata": {
        "id": "8V2jqry3JIkA"
      },
      "source": [
        "#data_transf[data_transf.index==69768]"
      ],
      "execution_count": null,
      "outputs": []
    },
    {
      "cell_type": "markdown",
      "metadata": {
        "id": "Ru-6BaCXPFfE"
      },
      "source": [
        "Sur les 5 premières lignes on peut voir que chaque ligne répresente un individu. Chaque individu est caratérisé par 12 variables: un identifiant \"id\", \"gender\", \"age\", s'il a l'hypertension \"hypertension\", s'il a une maladie du coeur\"heart_disease\", s'il n'a jamais été marié\"ever_married\", son type de travail \"work_type\", son type de résidence \"Residence_type\", son niveau moyen de glucose \"avg_glucose_level\", son indice de masse corporel (IMC en français) \"bmi\", son statut de fumeur \"smoking_statu\", s'il a fait un avc\"stroke\".  "
      ]
    },
    {
      "cell_type": "code",
      "metadata": {
        "colab": {
          "base_uri": "https://localhost:8080/"
        },
        "id": "1-hH5v0fMoOE",
        "outputId": "37083245-009e-4d88-eb9b-4f7a9f8f81c3"
      },
      "source": [
        "data.info()"
      ],
      "execution_count": null,
      "outputs": [
        {
          "output_type": "stream",
          "text": [
            "<class 'pandas.core.frame.DataFrame'>\n",
            "Int64Index: 5110 entries, 9046 to 44679\n",
            "Data columns (total 11 columns):\n",
            " #   Column             Non-Null Count  Dtype  \n",
            "---  ------             --------------  -----  \n",
            " 0   gender             5110 non-null   object \n",
            " 1   age                5110 non-null   float64\n",
            " 2   hypertension       5110 non-null   int64  \n",
            " 3   heart_disease      5110 non-null   int64  \n",
            " 4   ever_married       5110 non-null   object \n",
            " 5   work_type          5110 non-null   object \n",
            " 6   Residence_type     5110 non-null   object \n",
            " 7   avg_glucose_level  5110 non-null   float64\n",
            " 8   bmi                4909 non-null   float64\n",
            " 9   smoking_status     5110 non-null   object \n",
            " 10  stroke             5110 non-null   int64  \n",
            "dtypes: float64(3), int64(3), object(5)\n",
            "memory usage: 479.1+ KB\n"
          ],
          "name": "stdout"
        }
      ]
    },
    {
      "cell_type": "markdown",
      "metadata": {
        "id": "JVvISSgGNutK"
      },
      "source": [
        "Le jeu de donnée contient 5110 observations et 12 colonnes, ce qui signifie qu'il est relativement petit pour un jeu d'apprentissage automatique, mais pas mal déjà dans le plan académique.\n",
        "Seule la variable de masse corporelle \"bmi\" contient des valeurs manquantes.\n",
        "Il y'a aussi bien des variables qualitative(\"gender\",\"ever_married\",\"wwork_type\",\"Residence_type\",\"smoking_status\") que des variables quantitative (\"age\",\"hypertension\",\"heart_disease\",\"avg_glucose_level\",\"bmi\",\"stroke\")"
      ]
    },
    {
      "cell_type": "code",
      "metadata": {
        "colab": {
          "base_uri": "https://localhost:8080/"
        },
        "id": "Bt7RL9fgVzXL",
        "outputId": "2f7ead24-f1b4-443b-c8f9-6891baa80b5c"
      },
      "source": [
        "# Proportion des genre dans le JDD\n",
        "pd.DataFrame({'value_sex':data.gender.value_counts(),\"value_rate \": data.gender.value_counts()/data.gender.count()})"
      ],
      "execution_count": null,
      "outputs": [
        {
          "output_type": "execute_result",
          "data": {
            "text/html": [
              "<div>\n",
              "<style scoped>\n",
              "    .dataframe tbody tr th:only-of-type {\n",
              "        vertical-align: middle;\n",
              "    }\n",
              "\n",
              "    .dataframe tbody tr th {\n",
              "        vertical-align: top;\n",
              "    }\n",
              "\n",
              "    .dataframe thead th {\n",
              "        text-align: right;\n",
              "    }\n",
              "</style>\n",
              "<table border=\"1\" class=\"dataframe\">\n",
              "  <thead>\n",
              "    <tr style=\"text-align: right;\">\n",
              "      <th></th>\n",
              "      <th>value_sex</th>\n",
              "      <th>value_rate</th>\n",
              "    </tr>\n",
              "  </thead>\n",
              "  <tbody>\n",
              "    <tr>\n",
              "      <th>Female</th>\n",
              "      <td>2994</td>\n",
              "      <td>0.585910</td>\n",
              "    </tr>\n",
              "    <tr>\n",
              "      <th>Male</th>\n",
              "      <td>2115</td>\n",
              "      <td>0.413894</td>\n",
              "    </tr>\n",
              "    <tr>\n",
              "      <th>Other</th>\n",
              "      <td>1</td>\n",
              "      <td>0.000196</td>\n",
              "    </tr>\n",
              "  </tbody>\n",
              "</table>\n",
              "</div>"
            ],
            "text/plain": [
              "        value_sex  value_rate \n",
              "Female       2994     0.585910\n",
              "Male         2115     0.413894\n",
              "Other           1     0.000196"
            ]
          },
          "metadata": {
            "tags": []
          },
          "execution_count": 14
        }
      ]
    },
    {
      "cell_type": "markdown",
      "metadata": {
        "id": "FrocbUOzW-vC"
      },
      "source": [
        "Les femmes représentent près de 59% du JDD contre 41% pour les hommes.\n",
        "Il y'a aussi 1 individu de genre ni femme ni homme mais il est très négligeable dans le JDD pour qu'on en tienne compte.\n",
        "Pour ne pas risquer de biaisé les résultats dans la suite, il serait judiciable qu'on supprime cet individu du JDD."
      ]
    },
    {
      "cell_type": "code",
      "metadata": {
        "colab": {
          "base_uri": "https://localhost:8080/"
        },
        "id": "N3IkT34ueG02",
        "outputId": "e4502798-17db-42b3-9239-f969cc6a6933"
      },
      "source": [
        "# Suppression de l'individu dont le genre a pour modalité \"Other\"\n",
        "data.drop(data.loc[data.gender==\"Other\"].index,inplace=True)\n",
        "pd.DataFrame({'value_sex':data.gender.value_counts(),\"value_rate \": data.gender.value_counts()/data.gender.count()})"
      ],
      "execution_count": null,
      "outputs": [
        {
          "output_type": "execute_result",
          "data": {
            "text/html": [
              "<div>\n",
              "<style scoped>\n",
              "    .dataframe tbody tr th:only-of-type {\n",
              "        vertical-align: middle;\n",
              "    }\n",
              "\n",
              "    .dataframe tbody tr th {\n",
              "        vertical-align: top;\n",
              "    }\n",
              "\n",
              "    .dataframe thead th {\n",
              "        text-align: right;\n",
              "    }\n",
              "</style>\n",
              "<table border=\"1\" class=\"dataframe\">\n",
              "  <thead>\n",
              "    <tr style=\"text-align: right;\">\n",
              "      <th></th>\n",
              "      <th>value_sex</th>\n",
              "      <th>value_rate</th>\n",
              "    </tr>\n",
              "  </thead>\n",
              "  <tbody>\n",
              "    <tr>\n",
              "      <th>Female</th>\n",
              "      <td>2994</td>\n",
              "      <td>0.586025</td>\n",
              "    </tr>\n",
              "    <tr>\n",
              "      <th>Male</th>\n",
              "      <td>2115</td>\n",
              "      <td>0.413975</td>\n",
              "    </tr>\n",
              "  </tbody>\n",
              "</table>\n",
              "</div>"
            ],
            "text/plain": [
              "        value_sex  value_rate \n",
              "Female       2994     0.586025\n",
              "Male         2115     0.413975"
            ]
          },
          "metadata": {
            "tags": []
          },
          "execution_count": 15
        }
      ]
    },
    {
      "cell_type": "code",
      "metadata": {
        "colab": {
          "base_uri": "https://localhost:8080/"
        },
        "id": "YNF6w-kDYqZH",
        "outputId": "a080ffc8-7deb-4a87-f480-36d940879647"
      },
      "source": [
        "# Proportion des genres ayant fais un AVC sur le total d'individu dans le JDD \n",
        "pd.DataFrame({'value_avc_sex':data[data.stroke==1][\"gender\"].value_counts(),\"value_rate \": data[data.stroke==1][\"gender\"].value_counts()/data[data.stroke==1][\"gender\"].count()})"
      ],
      "execution_count": null,
      "outputs": [
        {
          "output_type": "execute_result",
          "data": {
            "text/html": [
              "<div>\n",
              "<style scoped>\n",
              "    .dataframe tbody tr th:only-of-type {\n",
              "        vertical-align: middle;\n",
              "    }\n",
              "\n",
              "    .dataframe tbody tr th {\n",
              "        vertical-align: top;\n",
              "    }\n",
              "\n",
              "    .dataframe thead th {\n",
              "        text-align: right;\n",
              "    }\n",
              "</style>\n",
              "<table border=\"1\" class=\"dataframe\">\n",
              "  <thead>\n",
              "    <tr style=\"text-align: right;\">\n",
              "      <th></th>\n",
              "      <th>value_avc_sex</th>\n",
              "      <th>value_rate</th>\n",
              "    </tr>\n",
              "  </thead>\n",
              "  <tbody>\n",
              "    <tr>\n",
              "      <th>Female</th>\n",
              "      <td>141</td>\n",
              "      <td>0.566265</td>\n",
              "    </tr>\n",
              "    <tr>\n",
              "      <th>Male</th>\n",
              "      <td>108</td>\n",
              "      <td>0.433735</td>\n",
              "    </tr>\n",
              "  </tbody>\n",
              "</table>\n",
              "</div>"
            ],
            "text/plain": [
              "        value_avc_sex  value_rate \n",
              "Female            141     0.566265\n",
              "Male              108     0.433735"
            ]
          },
          "metadata": {
            "tags": []
          },
          "execution_count": 16
        }
      ]
    },
    {
      "cell_type": "code",
      "metadata": {
        "colab": {
          "base_uri": "https://localhost:8080/"
        },
        "id": "jW5bKnTHFB2G",
        "outputId": "e041b001-a35a-4a3a-8803-2bea09e01ef2"
      },
      "source": [
        "#proportion des personnes ayant fais ou non un AVC\n",
        "pd.DataFrame({\"value_count\":data.stroke.value_counts(),\"values_rate\":data.stroke.value_counts()/data.shape[0]})"
      ],
      "execution_count": null,
      "outputs": [
        {
          "output_type": "execute_result",
          "data": {
            "text/html": [
              "<div>\n",
              "<style scoped>\n",
              "    .dataframe tbody tr th:only-of-type {\n",
              "        vertical-align: middle;\n",
              "    }\n",
              "\n",
              "    .dataframe tbody tr th {\n",
              "        vertical-align: top;\n",
              "    }\n",
              "\n",
              "    .dataframe thead th {\n",
              "        text-align: right;\n",
              "    }\n",
              "</style>\n",
              "<table border=\"1\" class=\"dataframe\">\n",
              "  <thead>\n",
              "    <tr style=\"text-align: right;\">\n",
              "      <th></th>\n",
              "      <th>value_count</th>\n",
              "      <th>values_rate</th>\n",
              "    </tr>\n",
              "  </thead>\n",
              "  <tbody>\n",
              "    <tr>\n",
              "      <th>0</th>\n",
              "      <td>4860</td>\n",
              "      <td>0.951262</td>\n",
              "    </tr>\n",
              "    <tr>\n",
              "      <th>1</th>\n",
              "      <td>249</td>\n",
              "      <td>0.048738</td>\n",
              "    </tr>\n",
              "  </tbody>\n",
              "</table>\n",
              "</div>"
            ],
            "text/plain": [
              "   value_count  values_rate\n",
              "0         4860     0.951262\n",
              "1          249     0.048738"
            ]
          },
          "metadata": {
            "tags": []
          },
          "execution_count": 17
        }
      ]
    },
    {
      "cell_type": "markdown",
      "metadata": {
        "id": "ugWI0nMiF2cT"
      },
      "source": [
        "Le JDD contient 95% des pesonnes n'ayant pas fais d'avc contre près de 5% uniquement qui en ont fait ce qui fait un JDD très déséquilibré.\n",
        "Un tel JDD, donnera des précisions proche de 1 mais les performances du modèle ne serait pas du tout bonne.\n",
        "https://www.kaggle.com/fedesoriano/stroke-prediction-dataset/discussion/232298\n",
        "\n",
        "Pour équilibrer le JDD, on pourait penser à faire un sur-échantillonnage des données.\n",
        "https://datascientest.com/comment-gerer-les-problemes-de-classification-desequilibree-partie-ii"
      ]
    },
    {
      "cell_type": "code",
      "metadata": {
        "id": "zWSFMDzEFsTt"
      },
      "source": [
        ""
      ],
      "execution_count": null,
      "outputs": []
    },
    {
      "cell_type": "code",
      "metadata": {
        "colab": {
          "base_uri": "https://localhost:8080/"
        },
        "id": "mXZQ8CVTbQXS",
        "outputId": "75f8046e-b213-4249-9f15-1cbeaa82edc5"
      },
      "source": [
        "# proportion en foction du total par genre\n",
        "print(\"% Femme AVC: \", data[(data[\"gender\"]==\"Female\") & (data[\"stroke\"]==1)][\"gender\"].count()/data[data[\"gender\"]==\"Female\"][\"gender\"].count() *100)\n",
        "print(\"% Homme AVC: \", data[(data[\"gender\"]==\"Male\") & (data[\"stroke\"]==1)][\"gender\"].count()/data[data[\"gender\"]==\"Male\"][\"gender\"].count() *100)"
      ],
      "execution_count": null,
      "outputs": [
        {
          "output_type": "stream",
          "text": [
            "% Femme AVC:  4.709418837675351\n",
            "% Homme AVC:  5.106382978723404\n"
          ],
          "name": "stdout"
        }
      ]
    },
    {
      "cell_type": "markdown",
      "metadata": {
        "id": "MZGwwqkomeE5"
      },
      "source": [
        "#### Data cleaning"
      ]
    },
    {
      "cell_type": "markdown",
      "metadata": {
        "id": "vKHa3kiDjNnG"
      },
      "source": [
        "###### Valeurs manquantes"
      ]
    },
    {
      "cell_type": "code",
      "metadata": {
        "colab": {
          "base_uri": "https://localhost:8080/"
        },
        "id": "L2pcNupzmxWl",
        "outputId": "6d070bfb-bf7c-4a3a-bc15-7716f5b22ad7"
      },
      "source": [
        "## Valeurs manquantes standards\n",
        "\n",
        "# des valeurs manquantes?\n",
        "print(data.isnull().values.any())"
      ],
      "execution_count": null,
      "outputs": [
        {
          "output_type": "stream",
          "text": [
            "True\n"
          ],
          "name": "stdout"
        }
      ]
    },
    {
      "cell_type": "code",
      "metadata": {
        "colab": {
          "base_uri": "https://localhost:8080/"
        },
        "id": "UN2n-bH6L4Hk",
        "outputId": "62d17bee-2a68-41c6-9a8a-8bb9c93038dc"
      },
      "source": [
        "import missingno as msno\n",
        "msno.bar(data)\n",
        "plt.show()"
      ],
      "execution_count": null,
      "outputs": [
        {
          "output_type": "display_data",
          "data": {
            "image/png": "[encoded data removed]",
            "text/plain": [
              "<Figure size 1728x720 with 3 Axes>"
            ]
          },
          "metadata": {
            "tags": [],
            "needs_background": "light"
          }
        }
      ]
    },
    {
      "cell_type": "code",
      "metadata": {
        "colab": {
          "base_uri": "https://localhost:8080/"
        },
        "id": "lg17_IvHnDw3",
        "outputId": "150eaeac-8b68-4b37-a5aa-39e872809f44"
      },
      "source": [
        "## Valeurs manquantes non standards\n",
        "\n",
        "data.smoking_status.unique()"
      ],
      "execution_count": null,
      "outputs": [
        {
          "output_type": "execute_result",
          "data": {
            "text/plain": [
              "array(['formerly smoked', 'never smoked', 'smokes', 'Unknown'],\n",
              "      dtype=object)"
            ]
          },
          "metadata": {
            "tags": []
          },
          "execution_count": 21
        }
      ]
    },
    {
      "cell_type": "code",
      "metadata": {
        "colab": {
          "base_uri": "https://localhost:8080/"
        },
        "id": "FtjFev58noXm",
        "outputId": "9846813c-46db-43a4-a373-7d78fa163987"
      },
      "source": [
        "data.smoking_status.value_counts()"
      ],
      "execution_count": null,
      "outputs": [
        {
          "output_type": "execute_result",
          "data": {
            "text/plain": [
              "never smoked       1892\n",
              "Unknown            1544\n",
              "formerly smoked     884\n",
              "smokes              789\n",
              "Name: smoking_status, dtype: int64"
            ]
          },
          "metadata": {
            "tags": []
          },
          "execution_count": 22
        }
      ]
    },
    {
      "cell_type": "markdown",
      "metadata": {
        "id": "edxYlPn_pKHA"
      },
      "source": [
        "On constate que la variable \"smoking_status\" a 1544 valeurs inconnus \"Unknown\". Il serait peut-être judicieux de la considérer comme une modalité à part entière. Ce qui nous éviterait aussi de devoir faire des imputations sur un nombre de données aussi important par rapport au JDD."
      ]
    },
    {
      "cell_type": "code",
      "metadata": {
        "id": "qn8o8F4wp02b"
      },
      "source": [
        "# Si on considère \"Unknown\" comme un \"NAN\"\n",
        "# Faire une liste de types de valeurs manquantes\n",
        "# missing_values = [\"Unknown\"]\n",
        "#data = pd.read_csv('Shareddrives/ProjetAVC/data_colabs/healthcare_data.csv', sep=\",\", na_values=missing_values)\n",
        "#data.head()\n",
        "\n",
        "# Suppression de l'individu dont le genre a pour modalité \"Other\"\n",
        "#data.drop(data.loc[data.gender==\"Other\"].index,inplace=True)"
      ],
      "execution_count": null,
      "outputs": []
    },
    {
      "cell_type": "code",
      "metadata": {
        "colab": {
          "base_uri": "https://localhost:8080/"
        },
        "id": "BlH0V30JQsQd",
        "outputId": "a49f0fe9-63b2-4b97-b294-a8188ffabd7a"
      },
      "source": [
        "#Pourcentage des données manquantes\n",
        "pd.DataFrame({'missing_valeur':data.isna().sum(), 'missing_rate':data.isna().sum()/data.shape[0]*100}).transpose()"
      ],
      "execution_count": null,
      "outputs": [
        {
          "output_type": "execute_result",
          "data": {
            "text/html": [
              "<div>\n",
              "<style scoped>\n",
              "    .dataframe tbody tr th:only-of-type {\n",
              "        vertical-align: middle;\n",
              "    }\n",
              "\n",
              "    .dataframe tbody tr th {\n",
              "        vertical-align: top;\n",
              "    }\n",
              "\n",
              "    .dataframe thead th {\n",
              "        text-align: right;\n",
              "    }\n",
              "</style>\n",
              "<table border=\"1\" class=\"dataframe\">\n",
              "  <thead>\n",
              "    <tr style=\"text-align: right;\">\n",
              "      <th></th>\n",
              "      <th>gender</th>\n",
              "      <th>age</th>\n",
              "      <th>hypertension</th>\n",
              "      <th>heart_disease</th>\n",
              "      <th>ever_married</th>\n",
              "      <th>work_type</th>\n",
              "      <th>Residence_type</th>\n",
              "      <th>avg_glucose_level</th>\n",
              "      <th>bmi</th>\n",
              "      <th>smoking_status</th>\n",
              "      <th>stroke</th>\n",
              "    </tr>\n",
              "  </thead>\n",
              "  <tbody>\n",
              "    <tr>\n",
              "      <th>missing_valeur</th>\n",
              "      <td>0.0</td>\n",
              "      <td>0.0</td>\n",
              "      <td>0.0</td>\n",
              "      <td>0.0</td>\n",
              "      <td>0.0</td>\n",
              "      <td>0.0</td>\n",
              "      <td>0.0</td>\n",
              "      <td>0.0</td>\n",
              "      <td>201.000000</td>\n",
              "      <td>0.0</td>\n",
              "      <td>0.0</td>\n",
              "    </tr>\n",
              "    <tr>\n",
              "      <th>missing_rate</th>\n",
              "      <td>0.0</td>\n",
              "      <td>0.0</td>\n",
              "      <td>0.0</td>\n",
              "      <td>0.0</td>\n",
              "      <td>0.0</td>\n",
              "      <td>0.0</td>\n",
              "      <td>0.0</td>\n",
              "      <td>0.0</td>\n",
              "      <td>3.934234</td>\n",
              "      <td>0.0</td>\n",
              "      <td>0.0</td>\n",
              "    </tr>\n",
              "  </tbody>\n",
              "</table>\n",
              "</div>"
            ],
            "text/plain": [
              "                gender  age  hypertension  ...         bmi  smoking_status  stroke\n",
              "missing_valeur     0.0  0.0           0.0  ...  201.000000             0.0     0.0\n",
              "missing_rate       0.0  0.0           0.0  ...    3.934234             0.0     0.0\n",
              "\n",
              "[2 rows x 11 columns]"
            ]
          },
          "metadata": {
            "tags": []
          },
          "execution_count": 24
        }
      ]
    },
    {
      "cell_type": "code",
      "metadata": {
        "colab": {
          "base_uri": "https://localhost:8080/"
        },
        "id": "1vWnwGaBWehI",
        "outputId": "274e43d5-b379-42ad-e138-1a2b3fa9db18"
      },
      "source": [
        "data[data.bmi.isna()][\"stroke\"].value_counts()"
      ],
      "execution_count": null,
      "outputs": [
        {
          "output_type": "execute_result",
          "data": {
            "text/plain": [
              "0    161\n",
              "1     40\n",
              "Name: stroke, dtype: int64"
            ]
          },
          "metadata": {
            "tags": []
          },
          "execution_count": 25
        }
      ]
    },
    {
      "cell_type": "code",
      "metadata": {
        "colab": {
          "base_uri": "https://localhost:8080/"
        },
        "id": "RA_1hruahBFp",
        "outputId": "3649c39f-c2d9-4372-fe66-3d8e687682f6"
      },
      "source": [
        "data[data.bmi.isna()][[\"gender\",\"stroke\"]].value_counts()"
      ],
      "execution_count": null,
      "outputs": [
        {
          "output_type": "execute_result",
          "data": {
            "text/plain": [
              "gender  stroke\n",
              "Male    0         85\n",
              "Female  0         76\n",
              "        1         21\n",
              "Male    1         19\n",
              "dtype: int64"
            ]
          },
          "metadata": {
            "tags": []
          },
          "execution_count": 26
        }
      ]
    },
    {
      "cell_type": "markdown",
      "metadata": {
        "id": "hRzgpoJqjrKZ"
      },
      "source": [
        "Il y'a 201 individus dont la masse corporelle (bmi) n'est pas mentionnée ce qui représente près de 4% du JDD, vue la taille de notre JDD c'est un nombre important. Donc on ne peut pas les supprimer surtout qu'on peut facilement attribuer une valeur à la variable (bmi)."
      ]
    },
    {
      "cell_type": "markdown",
      "metadata": {
        "id": "euc1GIoOyxHK"
      },
      "source": [
        "#### Statistiques descriptives et univariée"
      ]
    },
    {
      "cell_type": "code",
      "metadata": {
        "colab": {
          "base_uri": "https://localhost:8080/"
        },
        "id": "fD1-HyWsQSfs",
        "outputId": "0a2b096d-abca-4e62-e259-a8d7b34d21f0"
      },
      "source": [
        "data.describe()"
      ],
      "execution_count": null,
      "outputs": [
        {
          "output_type": "execute_result",
          "data": {
            "text/html": [
              "<div>\n",
              "<style scoped>\n",
              "    .dataframe tbody tr th:only-of-type {\n",
              "        vertical-align: middle;\n",
              "    }\n",
              "\n",
              "    .dataframe tbody tr th {\n",
              "        vertical-align: top;\n",
              "    }\n",
              "\n",
              "    .dataframe thead th {\n",
              "        text-align: right;\n",
              "    }\n",
              "</style>\n",
              "<table border=\"1\" class=\"dataframe\">\n",
              "  <thead>\n",
              "    <tr style=\"text-align: right;\">\n",
              "      <th></th>\n",
              "      <th>age</th>\n",
              "      <th>hypertension</th>\n",
              "      <th>heart_disease</th>\n",
              "      <th>avg_glucose_level</th>\n",
              "      <th>bmi</th>\n",
              "      <th>stroke</th>\n",
              "    </tr>\n",
              "  </thead>\n",
              "  <tbody>\n",
              "    <tr>\n",
              "      <th>count</th>\n",
              "      <td>5109.000000</td>\n",
              "      <td>5109.000000</td>\n",
              "      <td>5109.000000</td>\n",
              "      <td>5109.000000</td>\n",
              "      <td>4908.00000</td>\n",
              "      <td>5109.000000</td>\n",
              "    </tr>\n",
              "    <tr>\n",
              "      <th>mean</th>\n",
              "      <td>43.229986</td>\n",
              "      <td>0.097475</td>\n",
              "      <td>0.054022</td>\n",
              "      <td>106.140399</td>\n",
              "      <td>28.89456</td>\n",
              "      <td>0.048738</td>\n",
              "    </tr>\n",
              "    <tr>\n",
              "      <th>std</th>\n",
              "      <td>22.613575</td>\n",
              "      <td>0.296633</td>\n",
              "      <td>0.226084</td>\n",
              "      <td>45.285004</td>\n",
              "      <td>7.85432</td>\n",
              "      <td>0.215340</td>\n",
              "    </tr>\n",
              "    <tr>\n",
              "      <th>min</th>\n",
              "      <td>0.080000</td>\n",
              "      <td>0.000000</td>\n",
              "      <td>0.000000</td>\n",
              "      <td>55.120000</td>\n",
              "      <td>10.30000</td>\n",
              "      <td>0.000000</td>\n",
              "    </tr>\n",
              "    <tr>\n",
              "      <th>25%</th>\n",
              "      <td>25.000000</td>\n",
              "      <td>0.000000</td>\n",
              "      <td>0.000000</td>\n",
              "      <td>77.240000</td>\n",
              "      <td>23.50000</td>\n",
              "      <td>0.000000</td>\n",
              "    </tr>\n",
              "    <tr>\n",
              "      <th>50%</th>\n",
              "      <td>45.000000</td>\n",
              "      <td>0.000000</td>\n",
              "      <td>0.000000</td>\n",
              "      <td>91.880000</td>\n",
              "      <td>28.10000</td>\n",
              "      <td>0.000000</td>\n",
              "    </tr>\n",
              "    <tr>\n",
              "      <th>75%</th>\n",
              "      <td>61.000000</td>\n",
              "      <td>0.000000</td>\n",
              "      <td>0.000000</td>\n",
              "      <td>114.090000</td>\n",
              "      <td>33.10000</td>\n",
              "      <td>0.000000</td>\n",
              "    </tr>\n",
              "    <tr>\n",
              "      <th>max</th>\n",
              "      <td>82.000000</td>\n",
              "      <td>1.000000</td>\n",
              "      <td>1.000000</td>\n",
              "      <td>271.740000</td>\n",
              "      <td>97.60000</td>\n",
              "      <td>1.000000</td>\n",
              "    </tr>\n",
              "  </tbody>\n",
              "</table>\n",
              "</div>"
            ],
            "text/plain": [
              "               age  hypertension  ...         bmi       stroke\n",
              "count  5109.000000   5109.000000  ...  4908.00000  5109.000000\n",
              "mean     43.229986      0.097475  ...    28.89456     0.048738\n",
              "std      22.613575      0.296633  ...     7.85432     0.215340\n",
              "min       0.080000      0.000000  ...    10.30000     0.000000\n",
              "25%      25.000000      0.000000  ...    23.50000     0.000000\n",
              "50%      45.000000      0.000000  ...    28.10000     0.000000\n",
              "75%      61.000000      0.000000  ...    33.10000     0.000000\n",
              "max      82.000000      1.000000  ...    97.60000     1.000000\n",
              "\n",
              "[8 rows x 6 columns]"
            ]
          },
          "metadata": {
            "tags": []
          },
          "execution_count": 27
        }
      ]
    },
    {
      "cell_type": "code",
      "metadata": {
        "colab": {
          "base_uri": "https://localhost:8080/"
        },
        "id": "FYYlR2lpgOUe",
        "outputId": "c2f78569-4ffc-420f-8c1f-82b4a5d45b40"
      },
      "source": [
        "print(data.gender.value_counts())\n",
        "data.gender.value_counts().plot(kind='pie', autopct='%1.0f%%')"
      ],
      "execution_count": null,
      "outputs": [
        {
          "output_type": "stream",
          "text": [
            "Female    2994\n",
            "Male      2115\n",
            "Name: gender, dtype: int64\n"
          ],
          "name": "stdout"
        },
        {
          "output_type": "execute_result",
          "data": {
            "text/plain": [
              "<matplotlib.axes._subplots.AxesSubplot at 0x7f8a68b67710>"
            ]
          },
          "metadata": {
            "tags": []
          },
          "execution_count": 29
        },
        {
          "output_type": "display_data",
          "data": {
            "image/png": "[encoded data removed]",
            "text/plain": [
              "<Figure size 432x288 with 1 Axes>"
            ]
          },
          "metadata": {
            "tags": []
          }
        }
      ]
    },
    {
      "cell_type": "code",
      "metadata": {
        "colab": {
          "base_uri": "https://localhost:8080/"
        },
        "id": "dPNdiNPMAop5",
        "outputId": "97c19c4c-d45a-4895-d601-73537f2a85a8"
      },
      "source": [
        "print(data.ever_married.value_counts())\n",
        "data.ever_married.value_counts().plot(kind='pie', autopct='%1.0f%%')"
      ],
      "execution_count": null,
      "outputs": [
        {
          "output_type": "stream",
          "text": [
            "Yes    3353\n",
            "No     1756\n",
            "Name: ever_married, dtype: int64\n"
          ],
          "name": "stdout"
        },
        {
          "output_type": "execute_result",
          "data": {
            "text/plain": [
              "<matplotlib.axes._subplots.AxesSubplot at 0x7f8a68acc4d0>"
            ]
          },
          "metadata": {
            "tags": []
          },
          "execution_count": 30
        },
        {
          "output_type": "display_data",
          "data": {
            "image/png": "[encoded data removed]",
            "text/plain": [
              "<Figure size 432x288 with 1 Axes>"
            ]
          },
          "metadata": {
            "tags": []
          }
        }
      ]
    },
    {
      "cell_type": "code",
      "metadata": {
        "colab": {
          "base_uri": "https://localhost:8080/"
        },
        "id": "z6InFlpaAtu8",
        "outputId": "e6a77091-8bab-4262-8a7f-53ca15eec422"
      },
      "source": [
        "print(data.work_type.value_counts())\n",
        "sns.set_theme(style='darkgrid')\n",
        "ax = sns.countplot(data=data,x='work_type')"
      ],
      "execution_count": null,
      "outputs": [
        {
          "output_type": "stream",
          "text": [
            "Private          2924\n",
            "Self-employed     819\n",
            "children          687\n",
            "Govt_job          657\n",
            "Never_worked       22\n",
            "Name: work_type, dtype: int64\n"
          ],
          "name": "stdout"
        },
        {
          "output_type": "display_data",
          "data": {
            "image/png": "[encoded data removed]",
            "text/plain": [
              "<Figure size 432x288 with 1 Axes>"
            ]
          },
          "metadata": {
            "tags": []
          }
        }
      ]
    },
    {
      "cell_type": "code",
      "metadata": {
        "colab": {
          "base_uri": "https://localhost:8080/"
        },
        "id": "05oibRRmA59F",
        "outputId": "c3c6b81f-4bd6-44a8-db4c-85cd27553c22"
      },
      "source": [
        "print(data.Residence_type.value_counts())\n",
        "sns.set_theme(style='darkgrid')\n",
        "ax = sns.countplot(data=data,x='Residence_type')"
      ],
      "execution_count": null,
      "outputs": [
        {
          "output_type": "stream",
          "text": [
            "Urban    2596\n",
            "Rural    2513\n",
            "Name: Residence_type, dtype: int64\n"
          ],
          "name": "stdout"
        },
        {
          "output_type": "display_data",
          "data": {
            "image/png": "[encoded data removed]",
            "text/plain": [
              "<Figure size 432x288 with 1 Axes>"
            ]
          },
          "metadata": {
            "tags": []
          }
        }
      ]
    },
    {
      "cell_type": "code",
      "metadata": {
        "colab": {
          "base_uri": "https://localhost:8080/"
        },
        "id": "rM_lp610VdEp",
        "outputId": "89eb49a7-ba2e-4c04-a7e4-b9035b38ad73"
      },
      "source": [
        "print(data.smoking_status.value_counts())\n",
        "ax = sns.countplot(data=data[data.stroke==1],x='smoking_status')"
      ],
      "execution_count": null,
      "outputs": [
        {
          "output_type": "stream",
          "text": [
            "never smoked       1892\n",
            "Unknown            1544\n",
            "formerly smoked     884\n",
            "smokes              789\n",
            "Name: smoking_status, dtype: int64\n"
          ],
          "name": "stdout"
        },
        {
          "output_type": "display_data",
          "data": {
            "image/png": "[encoded data removed]",
            "text/plain": [
              "<Figure size 432x288 with 1 Axes>"
            ]
          },
          "metadata": {
            "tags": []
          }
        }
      ]
    },
    {
      "cell_type": "code",
      "metadata": {
        "colab": {
          "base_uri": "https://localhost:8080/"
        },
        "id": "GBwpkMLNREIT",
        "outputId": "a8325747-0065-414a-c066-70df6c055f07"
      },
      "source": [
        "plt.figure(figsize=(12,10))\n",
        "sns.distplot(data[(data['stroke'] == 1) & (data['smoking_status'] == \"Unknown\")][\"age\"],color='green')\n",
        "sns.distplot(data[(data['stroke'] == 1) & (data['smoking_status'] != \"Unknown\")][\"age\"],color='red')\n",
        "plt.title('No Stroke vs Stroke by Age',fontsize=15)\n",
        "plt.xlim([18,100])"
      ],
      "execution_count": null,
      "outputs": [
        {
          "output_type": "stream",
          "text": [
            "/usr/local/lib/python3.7/dist-packages/seaborn/distributions.py:2557: FutureWarning: `distplot` is a deprecated function and will be removed in a future version. Please adapt your code to use either `displot` (a figure-level function with similar flexibility) or `histplot` (an axes-level function for histograms).\n",
            "  warnings.warn(msg, FutureWarning)\n",
            "/usr/local/lib/python3.7/dist-packages/seaborn/distributions.py:2557: FutureWarning: `distplot` is a deprecated function and will be removed in a future version. Please adapt your code to use either `displot` (a figure-level function with similar flexibility) or `histplot` (an axes-level function for histograms).\n",
            "  warnings.warn(msg, FutureWarning)\n"
          ],
          "name": "stderr"
        },
        {
          "output_type": "execute_result",
          "data": {
            "text/plain": [
              "(18.0, 100.0)"
            ]
          },
          "metadata": {
            "tags": []
          },
          "execution_count": 36
        },
        {
          "output_type": "display_data",
          "data": {
            "image/png": "[encoded data removed]",
            "text/plain": [
              "<Figure size 864x720 with 1 Axes>"
            ]
          },
          "metadata": {
            "tags": []
          }
        }
      ]
    },
    {
      "cell_type": "code",
      "metadata": {
        "id": "xLanptDF5kI1"
      },
      "source": [
        "sns.set_theme(style='darkgrid')\n",
        "ax = sns.countplot(data=data,x='work_type')"
      ],
      "execution_count": null,
      "outputs": []
    },
    {
      "cell_type": "code",
      "metadata": {
        "id": "fhUypg6OBVCv"
      },
      "source": [
        "print(data.stroke.value_counts())\n",
        "sns.set_theme(style='darkgrid')\n",
        "ax = sns.countplot(data=data,x='stroke')"
      ],
      "execution_count": null,
      "outputs": []
    },
    {
      "cell_type": "code",
      "metadata": {
        "colab": {
          "base_uri": "https://localhost:8080/"
        },
        "id": "4kLBdar6DqPh",
        "outputId": "03c24e82-ada6-4965-dcc9-4a61279b43ec"
      },
      "source": [
        "fig = plt.figure(figsize=(14,10))\n",
        "sns.distplot(data.age,color='green',label='age',kde=True)\n",
        "sns.distplot(data.avg_glucose_level,color='blue',label='avg_glucose_level',kde=True)\n",
        "sns.distplot(data.bmi,color='orange',label='bmi',kde=True)\n",
        "plt.legend()"
      ],
      "execution_count": null,
      "outputs": [
        {
          "output_type": "stream",
          "text": [
            "/usr/local/lib/python3.7/dist-packages/seaborn/distributions.py:2557: FutureWarning: `distplot` is a deprecated function and will be removed in a future version. Please adapt your code to use either `displot` (a figure-level function with similar flexibility) or `histplot` (an axes-level function for histograms).\n",
            "  warnings.warn(msg, FutureWarning)\n",
            "/usr/local/lib/python3.7/dist-packages/seaborn/distributions.py:2557: FutureWarning: `distplot` is a deprecated function and will be removed in a future version. Please adapt your code to use either `displot` (a figure-level function with similar flexibility) or `histplot` (an axes-level function for histograms).\n",
            "  warnings.warn(msg, FutureWarning)\n",
            "/usr/local/lib/python3.7/dist-packages/seaborn/distributions.py:2557: FutureWarning: `distplot` is a deprecated function and will be removed in a future version. Please adapt your code to use either `displot` (a figure-level function with similar flexibility) or `histplot` (an axes-level function for histograms).\n",
            "  warnings.warn(msg, FutureWarning)\n"
          ],
          "name": "stderr"
        },
        {
          "output_type": "execute_result",
          "data": {
            "text/plain": [
              "<matplotlib.legend.Legend at 0x7f8a68b96a50>"
            ]
          },
          "metadata": {
            "tags": []
          },
          "execution_count": 38
        },
        {
          "output_type": "display_data",
          "data": {
            "image/png": "[encoded data removed]",
            "text/plain": [
              "<Figure size 1008x720 with 1 Axes>"
            ]
          },
          "metadata": {
            "tags": []
          }
        }
      ]
    },
    {
      "cell_type": "code",
      "metadata": {
        "colab": {
          "base_uri": "https://localhost:8080/"
        },
        "id": "jzL-D2BfDC1A",
        "outputId": "3dca8a3e-6709-4e0b-e050-65b592b97a5b"
      },
      "source": [
        "plt.figure(figsize=(12,10))\n",
        "sns.distplot(data[data['stroke'] == 0]['age'],color='green')\n",
        "sns.distplot(data[data['stroke'] == 1]['age'],color='red')\n",
        "plt.title('No Stroke vs Stroke by Age',fontsize=15)\n",
        "plt.xlim([18,100])"
      ],
      "execution_count": null,
      "outputs": [
        {
          "output_type": "stream",
          "text": [
            "/usr/local/lib/python3.7/dist-packages/seaborn/distributions.py:2557: FutureWarning: `distplot` is a deprecated function and will be removed in a future version. Please adapt your code to use either `displot` (a figure-level function with similar flexibility) or `histplot` (an axes-level function for histograms).\n",
            "  warnings.warn(msg, FutureWarning)\n",
            "/usr/local/lib/python3.7/dist-packages/seaborn/distributions.py:2557: FutureWarning: `distplot` is a deprecated function and will be removed in a future version. Please adapt your code to use either `displot` (a figure-level function with similar flexibility) or `histplot` (an axes-level function for histograms).\n",
            "  warnings.warn(msg, FutureWarning)\n"
          ],
          "name": "stderr"
        },
        {
          "output_type": "execute_result",
          "data": {
            "text/plain": [
              "(18.0, 100.0)"
            ]
          },
          "metadata": {
            "tags": []
          },
          "execution_count": 39
        },
        {
          "output_type": "display_data",
          "data": {
            "image/png": "[encoded data removed]",
            "text/plain": [
              "<Figure size 864x720 with 1 Axes>"
            ]
          },
          "metadata": {
            "tags": []
          }
        }
      ]
    },
    {
      "cell_type": "code",
      "metadata": {
        "id": "FluqEJSeUwvK"
      },
      "source": [
        "#Affichage des corrélation entre les données\n",
        "#data[[\"age\",\"hypertension\",\"heart_disease\",\"avg_glucose_level\",\"bmi\",\"stroke\"]].corr()"
      ],
      "execution_count": null,
      "outputs": []
    },
    {
      "cell_type": "code",
      "metadata": {
        "colab": {
          "base_uri": "https://localhost:8080/"
        },
        "id": "EkZuL0kbUUKH",
        "outputId": "e05149d0-ce46-430d-c0c8-2bbb99d4a6ec"
      },
      "source": [
        "df = data[[\"age\",\"hypertension\",\"heart_disease\",\"avg_glucose_level\",\"bmi\",\"stroke\"]]\n",
        "import matplotlib.pyplot as plt\n",
        "f = plt.figure(figsize=(12, 12))\n",
        "\n",
        "plt.matshow(df.corr(), fignum=f.number)\n",
        "plt.xticks(range(df.shape[1]), df.columns, fontsize=14, rotation=45)\n",
        "plt.yticks(range(df.shape[1]), df.columns, fontsize=14)\n",
        "\n",
        "cb = plt.colorbar()\n",
        "cb.ax.tick_params(labelsize=14)\n",
        "plt.title('Matrice de corrélation', fontsize=16, y=-0.15)"
      ],
      "execution_count": null,
      "outputs": [
        {
          "output_type": "execute_result",
          "data": {
            "text/plain": [
              "Text(0.5, -0.15, 'Matrice de corrélation')"
            ]
          },
          "metadata": {
            "tags": []
          },
          "execution_count": 42
        },
        {
          "output_type": "display_data",
          "data": {
            "image/png": "[encoded data removed]",
            "text/plain": [
              "<Figure size 864x864 with 2 Axes>"
            ]
          },
          "metadata": {
            "tags": []
          }
        }
      ]
    },
    {
      "cell_type": "code",
      "metadata": {
        "id": "j5U1SwREFlY4"
      },
      "source": [
        "#sns.heatmap(data.drop(columns=[\"id\"]).corr(), )\n"
      ],
      "execution_count": null,
      "outputs": []
    },
    {
      "cell_type": "code",
      "metadata": {
        "colab": {
          "base_uri": "https://localhost:8080/",
          "height": 557
        },
        "id": "xnYd89YE0BK4",
        "outputId": "97e6734d-32a0-4cb9-fc0f-8d235ecf0e14"
      },
      "source": [
        "data[[\"age\",\"avg_glucose_level\",\"bmi\"]].boxplot(figsize=(12,8))"
      ],
      "execution_count": null,
      "outputs": [
        {
          "output_type": "stream",
          "text": [
            "/usr/local/lib/python3.7/dist-packages/numpy/core/_asarray.py:83: VisibleDeprecationWarning: Creating an ndarray from ragged nested sequences (which is a list-or-tuple of lists-or-tuples-or ndarrays with different lengths or shapes) is deprecated. If you meant to do this, you must specify 'dtype=object' when creating the ndarray\n",
            "  return array(a, dtype, copy=False, order=order)\n"
          ],
          "name": "stderr"
        },
        {
          "output_type": "execute_result",
          "data": {
            "text/plain": [
              "<matplotlib.axes._subplots.AxesSubplot at 0x7f29986edcd0>"
            ]
          },
          "metadata": {
            "tags": []
          },
          "execution_count": 30
        },
        {
          "output_type": "display_data",
          "data": {
            "image/png": "[encoded data removed]",
            "text/plain": [
              "<Figure size 864x576 with 1 Axes>"
            ]
          },
          "metadata": {
            "tags": [],
            "needs_background": "light"
          }
        }
      ]
    },
    {
      "cell_type": "markdown",
      "metadata": {
        "id": "D6urOy230TN6"
      },
      "source": [
        "#### Preprocessing"
      ]
    },
    {
      "cell_type": "markdown",
      "metadata": {
        "id": "Z389jvymHzof"
      },
      "source": [
        "###### Gestion des variables catégorielles"
      ]
    },
    {
      "cell_type": "markdown",
      "metadata": {
        "id": "etDxFWw-IBz3"
      },
      "source": [
        "On va utiliser la fonction de pandas (get_dummies()) pour transformer les variables catégorielles en numérique. Le paramètre \"drop_first\" permet de supprimer la multicolinéarité en supprimant la première colonnes des colonnes crées sur une variable catégorielle.\n",
        "Pour en savoir plus : https://towardsdatascience.com/introduction-to-data-preprocessing-in-machine-learning-a9fa83a5dc9d"
      ]
    },
    {
      "cell_type": "code",
      "metadata": {
        "colab": {
          "base_uri": "https://localhost:8080/"
        },
        "id": "U6v7PQFbH4MO",
        "outputId": "849df8e4-cd43-4f1a-8202-3aedd6fd73f4"
      },
      "source": [
        "data_cat = pd.get_dummies(data, drop_first=True)\n",
        "data_cat.head(3)"
      ],
      "execution_count": null,
      "outputs": [
        {
          "output_type": "execute_result",
          "data": {
            "text/html": [
              "<div>\n",
              "<style scoped>\n",
              "    .dataframe tbody tr th:only-of-type {\n",
              "        vertical-align: middle;\n",
              "    }\n",
              "\n",
              "    .dataframe tbody tr th {\n",
              "        vertical-align: top;\n",
              "    }\n",
              "\n",
              "    .dataframe thead th {\n",
              "        text-align: right;\n",
              "    }\n",
              "</style>\n",
              "<table border=\"1\" class=\"dataframe\">\n",
              "  <thead>\n",
              "    <tr style=\"text-align: right;\">\n",
              "      <th></th>\n",
              "      <th>age</th>\n",
              "      <th>hypertension</th>\n",
              "      <th>heart_disease</th>\n",
              "      <th>avg_glucose_level</th>\n",
              "      <th>bmi</th>\n",
              "      <th>stroke</th>\n",
              "      <th>gender_Male</th>\n",
              "      <th>ever_married_Yes</th>\n",
              "      <th>work_type_Never_worked</th>\n",
              "      <th>work_type_Private</th>\n",
              "      <th>work_type_Self-employed</th>\n",
              "      <th>work_type_children</th>\n",
              "      <th>Residence_type_Urban</th>\n",
              "      <th>smoking_status_formerly smoked</th>\n",
              "      <th>smoking_status_never smoked</th>\n",
              "      <th>smoking_status_smokes</th>\n",
              "    </tr>\n",
              "    <tr>\n",
              "      <th>id</th>\n",
              "      <th></th>\n",
              "      <th></th>\n",
              "      <th></th>\n",
              "      <th></th>\n",
              "      <th></th>\n",
              "      <th></th>\n",
              "      <th></th>\n",
              "      <th></th>\n",
              "      <th></th>\n",
              "      <th></th>\n",
              "      <th></th>\n",
              "      <th></th>\n",
              "      <th></th>\n",
              "      <th></th>\n",
              "      <th></th>\n",
              "      <th></th>\n",
              "    </tr>\n",
              "  </thead>\n",
              "  <tbody>\n",
              "    <tr>\n",
              "      <th>9046</th>\n",
              "      <td>67.0</td>\n",
              "      <td>0</td>\n",
              "      <td>1</td>\n",
              "      <td>228.69</td>\n",
              "      <td>36.6</td>\n",
              "      <td>1</td>\n",
              "      <td>1</td>\n",
              "      <td>1</td>\n",
              "      <td>0</td>\n",
              "      <td>1</td>\n",
              "      <td>0</td>\n",
              "      <td>0</td>\n",
              "      <td>1</td>\n",
              "      <td>1</td>\n",
              "      <td>0</td>\n",
              "      <td>0</td>\n",
              "    </tr>\n",
              "    <tr>\n",
              "      <th>51676</th>\n",
              "      <td>61.0</td>\n",
              "      <td>0</td>\n",
              "      <td>0</td>\n",
              "      <td>202.21</td>\n",
              "      <td>NaN</td>\n",
              "      <td>1</td>\n",
              "      <td>0</td>\n",
              "      <td>1</td>\n",
              "      <td>0</td>\n",
              "      <td>0</td>\n",
              "      <td>1</td>\n",
              "      <td>0</td>\n",
              "      <td>0</td>\n",
              "      <td>0</td>\n",
              "      <td>1</td>\n",
              "      <td>0</td>\n",
              "    </tr>\n",
              "    <tr>\n",
              "      <th>31112</th>\n",
              "      <td>80.0</td>\n",
              "      <td>0</td>\n",
              "      <td>1</td>\n",
              "      <td>105.92</td>\n",
              "      <td>32.5</td>\n",
              "      <td>1</td>\n",
              "      <td>1</td>\n",
              "      <td>1</td>\n",
              "      <td>0</td>\n",
              "      <td>1</td>\n",
              "      <td>0</td>\n",
              "      <td>0</td>\n",
              "      <td>0</td>\n",
              "      <td>0</td>\n",
              "      <td>1</td>\n",
              "      <td>0</td>\n",
              "    </tr>\n",
              "  </tbody>\n",
              "</table>\n",
              "</div>"
            ],
            "text/plain": [
              "        age  hypertension  ...  smoking_status_never smoked  smoking_status_smokes\n",
              "id                         ...                                                    \n",
              "9046   67.0             0  ...                            0                      0\n",
              "51676  61.0             0  ...                            1                      0\n",
              "31112  80.0             0  ...                            1                      0\n",
              "\n",
              "[3 rows x 16 columns]"
            ]
          },
          "metadata": {
            "tags": []
          },
          "execution_count": 45
        }
      ]
    },
    {
      "cell_type": "markdown",
      "metadata": {
        "id": "XHY2x39H0YcF"
      },
      "source": [
        "###### Gestion des valeurs manquantes"
      ]
    },
    {
      "cell_type": "code",
      "metadata": {
        "colab": {
          "base_uri": "https://localhost:8080/"
        },
        "id": "i9kZoT0a0vlb",
        "outputId": "bb18e953-76f0-495e-d214-06d1d77bd713"
      },
      "source": [
        "print(data[data.gender==\"Female\"][\"bmi\"].median())\n",
        "print(data[data.gender==\"Male\"][\"bmi\"].median())"
      ],
      "execution_count": null,
      "outputs": [
        {
          "output_type": "stream",
          "text": [
            "27.8\n",
            "28.4\n"
          ],
          "name": "stdout"
        }
      ]
    },
    {
      "cell_type": "markdown",
      "metadata": {
        "id": "mwNuJnaY0kZl"
      },
      "source": [
        "Les valeurs medianes des masses corporelles des  homme et des femme sont différentes. Pour une imputation simple, il serait peut être mieux de faire l'imputation des valeurs maquantes par rapport à chaque sexe. C'est à dire la (bmi) maquantes des hommes imputée par rapport à la mediane de la \"bmi\" des hommes et de la même façon pour les femmes. "
      ]
    },
    {
      "cell_type": "code",
      "metadata": {
        "colab": {
          "base_uri": "https://localhost:8080/"
        },
        "id": "HfzOXWWVKR9P",
        "outputId": "a705e5a3-b596-4de6-9474-ee59dfb91d80"
      },
      "source": [
        "# Imputation des valeurs manquantes par la méthodes des plus proche voisin (Meilleur que celle par la moyenne ou la mediane)\n",
        "from sklearn.impute import KNNImputer\n",
        "\n",
        "imputer = KNNImputer(n_neighbors=2)\n",
        "\n",
        "array = imputer.fit_transform(data_cat)\n",
        "array"
      ],
      "execution_count": null,
      "outputs": [
        {
          "output_type": "execute_result",
          "data": {
            "text/plain": [
              "array([[67.,  0.,  1., ...,  1.,  0.,  0.],\n",
              "       [61.,  0.,  0., ...,  0.,  1.,  0.],\n",
              "       [80.,  0.,  1., ...,  0.,  1.,  0.],\n",
              "       ...,\n",
              "       [35.,  0.,  0., ...,  0.,  1.,  0.],\n",
              "       [51.,  0.,  0., ...,  1.,  0.,  0.],\n",
              "       [44.,  0.,  0., ...,  0.,  0.,  0.]])"
            ]
          },
          "metadata": {
            "tags": []
          },
          "execution_count": 47
        }
      ]
    },
    {
      "cell_type": "code",
      "metadata": {
        "colab": {
          "base_uri": "https://localhost:8080/"
        },
        "id": "Js058-GrM5gI",
        "outputId": "dd5454d0-59fb-4fbc-c8c8-4af8f4b9c454"
      },
      "source": [
        "data_transf = pd.DataFrame(array, columns=data_cat.columns)\n",
        "#data_transf.set_index(\"id\", inplace=True)\n",
        "data_transf.head()"
      ],
      "execution_count": null,
      "outputs": [
        {
          "output_type": "execute_result",
          "data": {
            "text/html": [
              "<div>\n",
              "<style scoped>\n",
              "    .dataframe tbody tr th:only-of-type {\n",
              "        vertical-align: middle;\n",
              "    }\n",
              "\n",
              "    .dataframe tbody tr th {\n",
              "        vertical-align: top;\n",
              "    }\n",
              "\n",
              "    .dataframe thead th {\n",
              "        text-align: right;\n",
              "    }\n",
              "</style>\n",
              "<table border=\"1\" class=\"dataframe\">\n",
              "  <thead>\n",
              "    <tr style=\"text-align: right;\">\n",
              "      <th></th>\n",
              "      <th>age</th>\n",
              "      <th>hypertension</th>\n",
              "      <th>heart_disease</th>\n",
              "      <th>avg_glucose_level</th>\n",
              "      <th>bmi</th>\n",
              "      <th>stroke</th>\n",
              "      <th>gender_Male</th>\n",
              "      <th>ever_married_Yes</th>\n",
              "      <th>work_type_Never_worked</th>\n",
              "      <th>work_type_Private</th>\n",
              "      <th>work_type_Self-employed</th>\n",
              "      <th>work_type_children</th>\n",
              "      <th>Residence_type_Urban</th>\n",
              "      <th>smoking_status_formerly smoked</th>\n",
              "      <th>smoking_status_never smoked</th>\n",
              "      <th>smoking_status_smokes</th>\n",
              "    </tr>\n",
              "  </thead>\n",
              "  <tbody>\n",
              "    <tr>\n",
              "      <th>0</th>\n",
              "      <td>67.0</td>\n",
              "      <td>0.0</td>\n",
              "      <td>1.0</td>\n",
              "      <td>228.69</td>\n",
              "      <td>36.60</td>\n",
              "      <td>1.0</td>\n",
              "      <td>1.0</td>\n",
              "      <td>1.0</td>\n",
              "      <td>0.0</td>\n",
              "      <td>1.0</td>\n",
              "      <td>0.0</td>\n",
              "      <td>0.0</td>\n",
              "      <td>1.0</td>\n",
              "      <td>1.0</td>\n",
              "      <td>0.0</td>\n",
              "      <td>0.0</td>\n",
              "    </tr>\n",
              "    <tr>\n",
              "      <th>1</th>\n",
              "      <td>61.0</td>\n",
              "      <td>0.0</td>\n",
              "      <td>0.0</td>\n",
              "      <td>202.21</td>\n",
              "      <td>31.75</td>\n",
              "      <td>1.0</td>\n",
              "      <td>0.0</td>\n",
              "      <td>1.0</td>\n",
              "      <td>0.0</td>\n",
              "      <td>0.0</td>\n",
              "      <td>1.0</td>\n",
              "      <td>0.0</td>\n",
              "      <td>0.0</td>\n",
              "      <td>0.0</td>\n",
              "      <td>1.0</td>\n",
              "      <td>0.0</td>\n",
              "    </tr>\n",
              "    <tr>\n",
              "      <th>2</th>\n",
              "      <td>80.0</td>\n",
              "      <td>0.0</td>\n",
              "      <td>1.0</td>\n",
              "      <td>105.92</td>\n",
              "      <td>32.50</td>\n",
              "      <td>1.0</td>\n",
              "      <td>1.0</td>\n",
              "      <td>1.0</td>\n",
              "      <td>0.0</td>\n",
              "      <td>1.0</td>\n",
              "      <td>0.0</td>\n",
              "      <td>0.0</td>\n",
              "      <td>0.0</td>\n",
              "      <td>0.0</td>\n",
              "      <td>1.0</td>\n",
              "      <td>0.0</td>\n",
              "    </tr>\n",
              "    <tr>\n",
              "      <th>3</th>\n",
              "      <td>49.0</td>\n",
              "      <td>0.0</td>\n",
              "      <td>0.0</td>\n",
              "      <td>171.23</td>\n",
              "      <td>34.40</td>\n",
              "      <td>1.0</td>\n",
              "      <td>0.0</td>\n",
              "      <td>1.0</td>\n",
              "      <td>0.0</td>\n",
              "      <td>1.0</td>\n",
              "      <td>0.0</td>\n",
              "      <td>0.0</td>\n",
              "      <td>1.0</td>\n",
              "      <td>0.0</td>\n",
              "      <td>0.0</td>\n",
              "      <td>1.0</td>\n",
              "    </tr>\n",
              "    <tr>\n",
              "      <th>4</th>\n",
              "      <td>79.0</td>\n",
              "      <td>1.0</td>\n",
              "      <td>0.0</td>\n",
              "      <td>174.12</td>\n",
              "      <td>24.00</td>\n",
              "      <td>1.0</td>\n",
              "      <td>0.0</td>\n",
              "      <td>1.0</td>\n",
              "      <td>0.0</td>\n",
              "      <td>0.0</td>\n",
              "      <td>1.0</td>\n",
              "      <td>0.0</td>\n",
              "      <td>0.0</td>\n",
              "      <td>0.0</td>\n",
              "      <td>1.0</td>\n",
              "      <td>0.0</td>\n",
              "    </tr>\n",
              "  </tbody>\n",
              "</table>\n",
              "</div>"
            ],
            "text/plain": [
              "    age  hypertension  ...  smoking_status_never smoked  smoking_status_smokes\n",
              "0  67.0           0.0  ...                          0.0                    0.0\n",
              "1  61.0           0.0  ...                          1.0                    0.0\n",
              "2  80.0           0.0  ...                          1.0                    0.0\n",
              "3  49.0           0.0  ...                          0.0                    1.0\n",
              "4  79.0           1.0  ...                          1.0                    0.0\n",
              "\n",
              "[5 rows x 16 columns]"
            ]
          },
          "metadata": {
            "tags": []
          },
          "execution_count": 48
        }
      ]
    },
    {
      "cell_type": "markdown",
      "metadata": {
        "id": "MVPYs81crrDm"
      },
      "source": [
        "###### Séparation du JDD "
      ]
    },
    {
      "cell_type": "code",
      "metadata": {
        "colab": {
          "base_uri": "https://localhost:8080/"
        },
        "id": "dL2zwRNir0bF",
        "outputId": "5a44a1b5-00ae-404b-82c1-8bc93d757bf4"
      },
      "source": [
        "#data_transf.iloc[:,5]\n",
        "Y = data_transf[\"stroke\"]\n",
        "Y"
      ],
      "execution_count": null,
      "outputs": [
        {
          "output_type": "execute_result",
          "data": {
            "text/plain": [
              "0       1.0\n",
              "1       1.0\n",
              "2       1.0\n",
              "3       1.0\n",
              "4       1.0\n",
              "       ... \n",
              "5104    0.0\n",
              "5105    0.0\n",
              "5106    0.0\n",
              "5107    0.0\n",
              "5108    0.0\n",
              "Name: stroke, Length: 5109, dtype: float64"
            ]
          },
          "metadata": {
            "tags": []
          },
          "execution_count": 49
        }
      ]
    },
    {
      "cell_type": "code",
      "metadata": {
        "colab": {
          "base_uri": "https://localhost:8080/"
        },
        "id": "c5PN7jVEzT-u",
        "outputId": "691affec-ac61-4631-de94-95d3babe73c1"
      },
      "source": [
        "X = data_transf.drop(\"stroke\",axis=1)\n",
        "X"
      ],
      "execution_count": null,
      "outputs": [
        {
          "output_type": "execute_result",
          "data": {
            "text/html": [
              "<div>\n",
              "<style scoped>\n",
              "    .dataframe tbody tr th:only-of-type {\n",
              "        vertical-align: middle;\n",
              "    }\n",
              "\n",
              "    .dataframe tbody tr th {\n",
              "        vertical-align: top;\n",
              "    }\n",
              "\n",
              "    .dataframe thead th {\n",
              "        text-align: right;\n",
              "    }\n",
              "</style>\n",
              "<table border=\"1\" class=\"dataframe\">\n",
              "  <thead>\n",
              "    <tr style=\"text-align: right;\">\n",
              "      <th></th>\n",
              "      <th>age</th>\n",
              "      <th>hypertension</th>\n",
              "      <th>heart_disease</th>\n",
              "      <th>avg_glucose_level</th>\n",
              "      <th>bmi</th>\n",
              "      <th>gender_Male</th>\n",
              "      <th>ever_married_Yes</th>\n",
              "      <th>work_type_Never_worked</th>\n",
              "      <th>work_type_Private</th>\n",
              "      <th>work_type_Self-employed</th>\n",
              "      <th>work_type_children</th>\n",
              "      <th>Residence_type_Urban</th>\n",
              "      <th>smoking_status_formerly smoked</th>\n",
              "      <th>smoking_status_never smoked</th>\n",
              "      <th>smoking_status_smokes</th>\n",
              "    </tr>\n",
              "  </thead>\n",
              "  <tbody>\n",
              "    <tr>\n",
              "      <th>0</th>\n",
              "      <td>67.0</td>\n",
              "      <td>0.0</td>\n",
              "      <td>1.0</td>\n",
              "      <td>228.69</td>\n",
              "      <td>36.60</td>\n",
              "      <td>1.0</td>\n",
              "      <td>1.0</td>\n",
              "      <td>0.0</td>\n",
              "      <td>1.0</td>\n",
              "      <td>0.0</td>\n",
              "      <td>0.0</td>\n",
              "      <td>1.0</td>\n",
              "      <td>1.0</td>\n",
              "      <td>0.0</td>\n",
              "      <td>0.0</td>\n",
              "    </tr>\n",
              "    <tr>\n",
              "      <th>1</th>\n",
              "      <td>61.0</td>\n",
              "      <td>0.0</td>\n",
              "      <td>0.0</td>\n",
              "      <td>202.21</td>\n",
              "      <td>31.75</td>\n",
              "      <td>0.0</td>\n",
              "      <td>1.0</td>\n",
              "      <td>0.0</td>\n",
              "      <td>0.0</td>\n",
              "      <td>1.0</td>\n",
              "      <td>0.0</td>\n",
              "      <td>0.0</td>\n",
              "      <td>0.0</td>\n",
              "      <td>1.0</td>\n",
              "      <td>0.0</td>\n",
              "    </tr>\n",
              "    <tr>\n",
              "      <th>2</th>\n",
              "      <td>80.0</td>\n",
              "      <td>0.0</td>\n",
              "      <td>1.0</td>\n",
              "      <td>105.92</td>\n",
              "      <td>32.50</td>\n",
              "      <td>1.0</td>\n",
              "      <td>1.0</td>\n",
              "      <td>0.0</td>\n",
              "      <td>1.0</td>\n",
              "      <td>0.0</td>\n",
              "      <td>0.0</td>\n",
              "      <td>0.0</td>\n",
              "      <td>0.0</td>\n",
              "      <td>1.0</td>\n",
              "      <td>0.0</td>\n",
              "    </tr>\n",
              "    <tr>\n",
              "      <th>3</th>\n",
              "      <td>49.0</td>\n",
              "      <td>0.0</td>\n",
              "      <td>0.0</td>\n",
              "      <td>171.23</td>\n",
              "      <td>34.40</td>\n",
              "      <td>0.0</td>\n",
              "      <td>1.0</td>\n",
              "      <td>0.0</td>\n",
              "      <td>1.0</td>\n",
              "      <td>0.0</td>\n",
              "      <td>0.0</td>\n",
              "      <td>1.0</td>\n",
              "      <td>0.0</td>\n",
              "      <td>0.0</td>\n",
              "      <td>1.0</td>\n",
              "    </tr>\n",
              "    <tr>\n",
              "      <th>4</th>\n",
              "      <td>79.0</td>\n",
              "      <td>1.0</td>\n",
              "      <td>0.0</td>\n",
              "      <td>174.12</td>\n",
              "      <td>24.00</td>\n",
              "      <td>0.0</td>\n",
              "      <td>1.0</td>\n",
              "      <td>0.0</td>\n",
              "      <td>0.0</td>\n",
              "      <td>1.0</td>\n",
              "      <td>0.0</td>\n",
              "      <td>0.0</td>\n",
              "      <td>0.0</td>\n",
              "      <td>1.0</td>\n",
              "      <td>0.0</td>\n",
              "    </tr>\n",
              "    <tr>\n",
              "      <th>...</th>\n",
              "      <td>...</td>\n",
              "      <td>...</td>\n",
              "      <td>...</td>\n",
              "      <td>...</td>\n",
              "      <td>...</td>\n",
              "      <td>...</td>\n",
              "      <td>...</td>\n",
              "      <td>...</td>\n",
              "      <td>...</td>\n",
              "      <td>...</td>\n",
              "      <td>...</td>\n",
              "      <td>...</td>\n",
              "      <td>...</td>\n",
              "      <td>...</td>\n",
              "      <td>...</td>\n",
              "    </tr>\n",
              "    <tr>\n",
              "      <th>5104</th>\n",
              "      <td>80.0</td>\n",
              "      <td>1.0</td>\n",
              "      <td>0.0</td>\n",
              "      <td>83.75</td>\n",
              "      <td>26.85</td>\n",
              "      <td>0.0</td>\n",
              "      <td>1.0</td>\n",
              "      <td>0.0</td>\n",
              "      <td>1.0</td>\n",
              "      <td>0.0</td>\n",
              "      <td>0.0</td>\n",
              "      <td>1.0</td>\n",
              "      <td>0.0</td>\n",
              "      <td>1.0</td>\n",
              "      <td>0.0</td>\n",
              "    </tr>\n",
              "    <tr>\n",
              "      <th>5105</th>\n",
              "      <td>81.0</td>\n",
              "      <td>0.0</td>\n",
              "      <td>0.0</td>\n",
              "      <td>125.20</td>\n",
              "      <td>40.00</td>\n",
              "      <td>0.0</td>\n",
              "      <td>1.0</td>\n",
              "      <td>0.0</td>\n",
              "      <td>0.0</td>\n",
              "      <td>1.0</td>\n",
              "      <td>0.0</td>\n",
              "      <td>1.0</td>\n",
              "      <td>0.0</td>\n",
              "      <td>1.0</td>\n",
              "      <td>0.0</td>\n",
              "    </tr>\n",
              "    <tr>\n",
              "      <th>5106</th>\n",
              "      <td>35.0</td>\n",
              "      <td>0.0</td>\n",
              "      <td>0.0</td>\n",
              "      <td>82.99</td>\n",
              "      <td>30.60</td>\n",
              "      <td>0.0</td>\n",
              "      <td>1.0</td>\n",
              "      <td>0.0</td>\n",
              "      <td>0.0</td>\n",
              "      <td>1.0</td>\n",
              "      <td>0.0</td>\n",
              "      <td>0.0</td>\n",
              "      <td>0.0</td>\n",
              "      <td>1.0</td>\n",
              "      <td>0.0</td>\n",
              "    </tr>\n",
              "    <tr>\n",
              "      <th>5107</th>\n",
              "      <td>51.0</td>\n",
              "      <td>0.0</td>\n",
              "      <td>0.0</td>\n",
              "      <td>166.29</td>\n",
              "      <td>25.60</td>\n",
              "      <td>1.0</td>\n",
              "      <td>1.0</td>\n",
              "      <td>0.0</td>\n",
              "      <td>1.0</td>\n",
              "      <td>0.0</td>\n",
              "      <td>0.0</td>\n",
              "      <td>0.0</td>\n",
              "      <td>1.0</td>\n",
              "      <td>0.0</td>\n",
              "      <td>0.0</td>\n",
              "    </tr>\n",
              "    <tr>\n",
              "      <th>5108</th>\n",
              "      <td>44.0</td>\n",
              "      <td>0.0</td>\n",
              "      <td>0.0</td>\n",
              "      <td>85.28</td>\n",
              "      <td>26.20</td>\n",
              "      <td>0.0</td>\n",
              "      <td>1.0</td>\n",
              "      <td>0.0</td>\n",
              "      <td>0.0</td>\n",
              "      <td>0.0</td>\n",
              "      <td>0.0</td>\n",
              "      <td>1.0</td>\n",
              "      <td>0.0</td>\n",
              "      <td>0.0</td>\n",
              "      <td>0.0</td>\n",
              "    </tr>\n",
              "  </tbody>\n",
              "</table>\n",
              "<p>5109 rows × 15 columns</p>\n",
              "</div>"
            ],
            "text/plain": [
              "       age  hypertension  ...  smoking_status_never smoked  smoking_status_smokes\n",
              "0     67.0           0.0  ...                          0.0                    0.0\n",
              "1     61.0           0.0  ...                          1.0                    0.0\n",
              "2     80.0           0.0  ...                          1.0                    0.0\n",
              "3     49.0           0.0  ...                          0.0                    1.0\n",
              "4     79.0           1.0  ...                          1.0                    0.0\n",
              "...    ...           ...  ...                          ...                    ...\n",
              "5104  80.0           1.0  ...                          1.0                    0.0\n",
              "5105  81.0           0.0  ...                          1.0                    0.0\n",
              "5106  35.0           0.0  ...                          1.0                    0.0\n",
              "5107  51.0           0.0  ...                          0.0                    0.0\n",
              "5108  44.0           0.0  ...                          0.0                    0.0\n",
              "\n",
              "[5109 rows x 15 columns]"
            ]
          },
          "metadata": {
            "tags": []
          },
          "execution_count": 50
        }
      ]
    },
    {
      "cell_type": "code",
      "metadata": {
        "colab": {
          "base_uri": "https://localhost:8080/"
        },
        "id": "iIY65H9vzHi3",
        "outputId": "b8b16caa-f7b8-4457-a380-76b5b316e114"
      },
      "source": [
        "Y.shape"
      ],
      "execution_count": null,
      "outputs": [
        {
          "output_type": "execute_result",
          "data": {
            "text/plain": [
              "(5109,)"
            ]
          },
          "metadata": {
            "tags": []
          },
          "execution_count": 51
        }
      ]
    },
    {
      "cell_type": "markdown",
      "metadata": {
        "id": "X_jtTXZOM-_j"
      },
      "source": [
        "##### Normalisation du JDD"
      ]
    },
    {
      "cell_type": "markdown",
      "metadata": {
        "id": "YZfyxHIKY1P-"
      },
      "source": [
        "Standardisation (centrage-réduction) des descripteurs. Les variables prédictives étant définies sur des échelles différentes, il est recommandé de les standardiser avant de procéder à un apprentissage. Nous utilisons la classe StandardScaler de la librairie scikit-learn\n",
        "\n",
        "Nous demandons un centrage (with_mean=True) et réduction (with_std=True) des variables, c-à-d.\n",
        "\n",
        "nous appliquons la formule : 𝑧𝑖𝑗 = (𝑥𝑖𝑗 − 𝑥̅𝑗)/𝜎𝑗 Où 𝑥̅𝑗 et 𝜎𝑗 sont respectivement la moyenne et l’écart-type de la variable Xj"
      ]
    },
    {
      "cell_type": "code",
      "metadata": {
        "colab": {
          "base_uri": "https://localhost:8080/"
        },
        "id": "G74nnQwkNDn2",
        "outputId": "6d975a49-87ac-4165-bdad-fda2968b1cc1"
      },
      "source": [
        "# Standardisation des valeurs\n",
        "from sklearn.preprocessing import StandardScaler\n",
        "std = StandardScaler(with_mean = True, with_std=True)\n",
        "data_std = std.fit_transform(X)\n",
        "data_std"
      ],
      "execution_count": null,
      "outputs": [
        {
          "output_type": "execute_result",
          "data": {
            "text/plain": [
              "array([[ 1.05124201, -0.32863749,  4.18459909, ...,  2.18618658,\n",
              "        -0.76689346, -0.42736271],\n",
              "       [ 0.78588869, -0.32863749, -0.23897152, ..., -0.4574175 ,\n",
              "         1.30396209, -0.42736271],\n",
              "       [ 1.6261742 , -0.32863749,  4.18459909, ..., -0.4574175 ,\n",
              "         1.30396209, -0.42736271],\n",
              "       ...,\n",
              "       [-0.3639757 , -0.32863749, -0.23897152, ..., -0.4574175 ,\n",
              "         1.30396209, -0.42736271],\n",
              "       [ 0.34363316, -0.32863749, -0.23897152, ...,  2.18618658,\n",
              "        -0.76689346, -0.42736271],\n",
              "       [ 0.03405428, -0.32863749, -0.23897152, ..., -0.4574175 ,\n",
              "        -0.76689346, -0.42736271]])"
            ]
          },
          "metadata": {
            "tags": []
          },
          "execution_count": 52
        }
      ]
    },
    {
      "cell_type": "code",
      "metadata": {
        "colab": {
          "base_uri": "https://localhost:8080/"
        },
        "id": "7ffgc4c-0tJH",
        "outputId": "f1661de2-384e-4ba7-fb5c-6736a818cb60"
      },
      "source": [
        "data_transf.columns"
      ],
      "execution_count": null,
      "outputs": [
        {
          "output_type": "execute_result",
          "data": {
            "text/plain": [
              "Index(['age', 'hypertension', 'heart_disease', 'avg_glucose_level', 'bmi',\n",
              "       'stroke', 'gender_Male', 'ever_married_Yes', 'work_type_Never_worked',\n",
              "       'work_type_Private', 'work_type_Self-employed', 'work_type_children',\n",
              "       'Residence_type_Urban', 'smoking_status_formerly smoked',\n",
              "       'smoking_status_never smoked', 'smoking_status_smokes'],\n",
              "      dtype='object')"
            ]
          },
          "metadata": {
            "tags": []
          },
          "execution_count": 53
        }
      ]
    },
    {
      "cell_type": "code",
      "metadata": {
        "colab": {
          "base_uri": "https://localhost:8080/"
        },
        "id": "ROKRM9350frO",
        "outputId": "83c15c39-6c4c-4c8b-b315-5389df859ea7"
      },
      "source": [
        "X_std = pd.DataFrame(data_std, index=data_transf.index, columns=[['age', 'hypertension', 'heart_disease', 'avg_glucose_level', 'bmi',\n",
        "        'gender_Male', 'ever_married_Yes', 'work_type_Never_worked',\n",
        "       'work_type_Private', 'work_type_Self-employed', 'work_type_children',\n",
        "       'Residence_type_Urban', 'smoking_status_formerly smoked',\n",
        "       'smoking_status_never smoked', 'smoking_status_smokes']])\n",
        "X_std"
      ],
      "execution_count": null,
      "outputs": [
        {
          "output_type": "execute_result",
          "data": {
            "text/html": [
              "<div>\n",
              "<style scoped>\n",
              "    .dataframe tbody tr th:only-of-type {\n",
              "        vertical-align: middle;\n",
              "    }\n",
              "\n",
              "    .dataframe tbody tr th {\n",
              "        vertical-align: top;\n",
              "    }\n",
              "\n",
              "    .dataframe thead tr th {\n",
              "        text-align: left;\n",
              "    }\n",
              "</style>\n",
              "<table border=\"1\" class=\"dataframe\">\n",
              "  <thead>\n",
              "    <tr>\n",
              "      <th></th>\n",
              "      <th>age</th>\n",
              "      <th>hypertension</th>\n",
              "      <th>heart_disease</th>\n",
              "      <th>avg_glucose_level</th>\n",
              "      <th>bmi</th>\n",
              "      <th>gender_Male</th>\n",
              "      <th>ever_married_Yes</th>\n",
              "      <th>work_type_Never_worked</th>\n",
              "      <th>work_type_Private</th>\n",
              "      <th>work_type_Self-employed</th>\n",
              "      <th>work_type_children</th>\n",
              "      <th>Residence_type_Urban</th>\n",
              "      <th>smoking_status_formerly smoked</th>\n",
              "      <th>smoking_status_never smoked</th>\n",
              "      <th>smoking_status_smokes</th>\n",
              "    </tr>\n",
              "  </thead>\n",
              "  <tbody>\n",
              "    <tr>\n",
              "      <th>0</th>\n",
              "      <td>1.051242</td>\n",
              "      <td>-0.328637</td>\n",
              "      <td>4.184599</td>\n",
              "      <td>2.706450</td>\n",
              "      <td>0.980257</td>\n",
              "      <td>1.189791</td>\n",
              "      <td>0.723678</td>\n",
              "      <td>-0.065763</td>\n",
              "      <td>0.864444</td>\n",
              "      <td>-0.436931</td>\n",
              "      <td>-0.394157</td>\n",
              "      <td>0.983884</td>\n",
              "      <td>2.186187</td>\n",
              "      <td>-0.766893</td>\n",
              "      <td>-0.427363</td>\n",
              "    </tr>\n",
              "    <tr>\n",
              "      <th>1</th>\n",
              "      <td>0.785889</td>\n",
              "      <td>-0.328637</td>\n",
              "      <td>-0.238972</td>\n",
              "      <td>2.121652</td>\n",
              "      <td>0.359193</td>\n",
              "      <td>-0.840484</td>\n",
              "      <td>0.723678</td>\n",
              "      <td>-0.065763</td>\n",
              "      <td>-1.156812</td>\n",
              "      <td>2.288689</td>\n",
              "      <td>-0.394157</td>\n",
              "      <td>-1.016380</td>\n",
              "      <td>-0.457417</td>\n",
              "      <td>1.303962</td>\n",
              "      <td>-0.427363</td>\n",
              "    </tr>\n",
              "    <tr>\n",
              "      <th>2</th>\n",
              "      <td>1.626174</td>\n",
              "      <td>-0.328637</td>\n",
              "      <td>4.184599</td>\n",
              "      <td>-0.004867</td>\n",
              "      <td>0.455234</td>\n",
              "      <td>1.189791</td>\n",
              "      <td>0.723678</td>\n",
              "      <td>-0.065763</td>\n",
              "      <td>0.864444</td>\n",
              "      <td>-0.436931</td>\n",
              "      <td>-0.394157</td>\n",
              "      <td>-1.016380</td>\n",
              "      <td>-0.457417</td>\n",
              "      <td>1.303962</td>\n",
              "      <td>-0.427363</td>\n",
              "    </tr>\n",
              "    <tr>\n",
              "      <th>3</th>\n",
              "      <td>0.255182</td>\n",
              "      <td>-0.328637</td>\n",
              "      <td>-0.238972</td>\n",
              "      <td>1.437473</td>\n",
              "      <td>0.698537</td>\n",
              "      <td>-0.840484</td>\n",
              "      <td>0.723678</td>\n",
              "      <td>-0.065763</td>\n",
              "      <td>0.864444</td>\n",
              "      <td>-0.436931</td>\n",
              "      <td>-0.394157</td>\n",
              "      <td>0.983884</td>\n",
              "      <td>-0.457417</td>\n",
              "      <td>-0.766893</td>\n",
              "      <td>2.339933</td>\n",
              "    </tr>\n",
              "    <tr>\n",
              "      <th>4</th>\n",
              "      <td>1.581949</td>\n",
              "      <td>3.042866</td>\n",
              "      <td>-0.238972</td>\n",
              "      <td>1.501297</td>\n",
              "      <td>-0.633229</td>\n",
              "      <td>-0.840484</td>\n",
              "      <td>0.723678</td>\n",
              "      <td>-0.065763</td>\n",
              "      <td>-1.156812</td>\n",
              "      <td>2.288689</td>\n",
              "      <td>-0.394157</td>\n",
              "      <td>-1.016380</td>\n",
              "      <td>-0.457417</td>\n",
              "      <td>1.303962</td>\n",
              "      <td>-0.427363</td>\n",
              "    </tr>\n",
              "    <tr>\n",
              "      <th>...</th>\n",
              "      <td>...</td>\n",
              "      <td>...</td>\n",
              "      <td>...</td>\n",
              "      <td>...</td>\n",
              "      <td>...</td>\n",
              "      <td>...</td>\n",
              "      <td>...</td>\n",
              "      <td>...</td>\n",
              "      <td>...</td>\n",
              "      <td>...</td>\n",
              "      <td>...</td>\n",
              "      <td>...</td>\n",
              "      <td>...</td>\n",
              "      <td>...</td>\n",
              "      <td>...</td>\n",
              "    </tr>\n",
              "    <tr>\n",
              "      <th>5104</th>\n",
              "      <td>1.626174</td>\n",
              "      <td>3.042866</td>\n",
              "      <td>-0.238972</td>\n",
              "      <td>-0.494481</td>\n",
              "      <td>-0.268274</td>\n",
              "      <td>-0.840484</td>\n",
              "      <td>0.723678</td>\n",
              "      <td>-0.065763</td>\n",
              "      <td>0.864444</td>\n",
              "      <td>-0.436931</td>\n",
              "      <td>-0.394157</td>\n",
              "      <td>0.983884</td>\n",
              "      <td>-0.457417</td>\n",
              "      <td>1.303962</td>\n",
              "      <td>-0.427363</td>\n",
              "    </tr>\n",
              "    <tr>\n",
              "      <th>5105</th>\n",
              "      <td>1.670400</td>\n",
              "      <td>-0.328637</td>\n",
              "      <td>-0.238972</td>\n",
              "      <td>0.420922</td>\n",
              "      <td>1.415642</td>\n",
              "      <td>-0.840484</td>\n",
              "      <td>0.723678</td>\n",
              "      <td>-0.065763</td>\n",
              "      <td>-1.156812</td>\n",
              "      <td>2.288689</td>\n",
              "      <td>-0.394157</td>\n",
              "      <td>0.983884</td>\n",
              "      <td>-0.457417</td>\n",
              "      <td>1.303962</td>\n",
              "      <td>-0.427363</td>\n",
              "    </tr>\n",
              "    <tr>\n",
              "      <th>5106</th>\n",
              "      <td>-0.363976</td>\n",
              "      <td>-0.328637</td>\n",
              "      <td>-0.238972</td>\n",
              "      <td>-0.511266</td>\n",
              "      <td>0.211930</td>\n",
              "      <td>-0.840484</td>\n",
              "      <td>0.723678</td>\n",
              "      <td>-0.065763</td>\n",
              "      <td>-1.156812</td>\n",
              "      <td>2.288689</td>\n",
              "      <td>-0.394157</td>\n",
              "      <td>-1.016380</td>\n",
              "      <td>-0.457417</td>\n",
              "      <td>1.303962</td>\n",
              "      <td>-0.427363</td>\n",
              "    </tr>\n",
              "    <tr>\n",
              "      <th>5107</th>\n",
              "      <td>0.343633</td>\n",
              "      <td>-0.328637</td>\n",
              "      <td>-0.238972</td>\n",
              "      <td>1.328375</td>\n",
              "      <td>-0.428342</td>\n",
              "      <td>1.189791</td>\n",
              "      <td>0.723678</td>\n",
              "      <td>-0.065763</td>\n",
              "      <td>0.864444</td>\n",
              "      <td>-0.436931</td>\n",
              "      <td>-0.394157</td>\n",
              "      <td>-1.016380</td>\n",
              "      <td>2.186187</td>\n",
              "      <td>-0.766893</td>\n",
              "      <td>-0.427363</td>\n",
              "    </tr>\n",
              "    <tr>\n",
              "      <th>5108</th>\n",
              "      <td>0.034054</td>\n",
              "      <td>-0.328637</td>\n",
              "      <td>-0.238972</td>\n",
              "      <td>-0.460692</td>\n",
              "      <td>-0.351509</td>\n",
              "      <td>-0.840484</td>\n",
              "      <td>0.723678</td>\n",
              "      <td>-0.065763</td>\n",
              "      <td>-1.156812</td>\n",
              "      <td>-0.436931</td>\n",
              "      <td>-0.394157</td>\n",
              "      <td>0.983884</td>\n",
              "      <td>-0.457417</td>\n",
              "      <td>-0.766893</td>\n",
              "      <td>-0.427363</td>\n",
              "    </tr>\n",
              "  </tbody>\n",
              "</table>\n",
              "<p>5109 rows × 15 columns</p>\n",
              "</div>"
            ],
            "text/plain": [
              "           age hypertension  ... smoking_status_never smoked smoking_status_smokes\n",
              "0     1.051242    -0.328637  ...                   -0.766893             -0.427363\n",
              "1     0.785889    -0.328637  ...                    1.303962             -0.427363\n",
              "2     1.626174    -0.328637  ...                    1.303962             -0.427363\n",
              "3     0.255182    -0.328637  ...                   -0.766893              2.339933\n",
              "4     1.581949     3.042866  ...                    1.303962             -0.427363\n",
              "...        ...          ...  ...                         ...                   ...\n",
              "5104  1.626174     3.042866  ...                    1.303962             -0.427363\n",
              "5105  1.670400    -0.328637  ...                    1.303962             -0.427363\n",
              "5106 -0.363976    -0.328637  ...                    1.303962             -0.427363\n",
              "5107  0.343633    -0.328637  ...                   -0.766893             -0.427363\n",
              "5108  0.034054    -0.328637  ...                   -0.766893             -0.427363\n",
              "\n",
              "[5109 rows x 15 columns]"
            ]
          },
          "metadata": {
            "tags": []
          },
          "execution_count": 54
        }
      ]
    },
    {
      "cell_type": "code",
      "metadata": {
        "colab": {
          "base_uri": "https://localhost:8080/"
        },
        "id": "mAMvxnEl2fnV",
        "outputId": "72150970-4eaf-48d1-e630-be4aa04bd19a"
      },
      "source": [
        "X_std.describe()"
      ],
      "execution_count": null,
      "outputs": [
        {
          "output_type": "execute_result",
          "data": {
            "text/html": [
              "<div>\n",
              "<style scoped>\n",
              "    .dataframe tbody tr th:only-of-type {\n",
              "        vertical-align: middle;\n",
              "    }\n",
              "\n",
              "    .dataframe tbody tr th {\n",
              "        vertical-align: top;\n",
              "    }\n",
              "\n",
              "    .dataframe thead tr th {\n",
              "        text-align: left;\n",
              "    }\n",
              "</style>\n",
              "<table border=\"1\" class=\"dataframe\">\n",
              "  <thead>\n",
              "    <tr>\n",
              "      <th></th>\n",
              "      <th>age</th>\n",
              "      <th>hypertension</th>\n",
              "      <th>heart_disease</th>\n",
              "      <th>avg_glucose_level</th>\n",
              "      <th>bmi</th>\n",
              "      <th>gender_Male</th>\n",
              "      <th>ever_married_Yes</th>\n",
              "      <th>work_type_Never_worked</th>\n",
              "      <th>work_type_Private</th>\n",
              "      <th>work_type_Self-employed</th>\n",
              "      <th>work_type_children</th>\n",
              "      <th>Residence_type_Urban</th>\n",
              "      <th>smoking_status_formerly smoked</th>\n",
              "      <th>smoking_status_never smoked</th>\n",
              "      <th>smoking_status_smokes</th>\n",
              "    </tr>\n",
              "  </thead>\n",
              "  <tbody>\n",
              "    <tr>\n",
              "      <th>count</th>\n",
              "      <td>5.109000e+03</td>\n",
              "      <td>5.109000e+03</td>\n",
              "      <td>5.109000e+03</td>\n",
              "      <td>5.109000e+03</td>\n",
              "      <td>5.109000e+03</td>\n",
              "      <td>5.109000e+03</td>\n",
              "      <td>5.109000e+03</td>\n",
              "      <td>5.109000e+03</td>\n",
              "      <td>5.109000e+03</td>\n",
              "      <td>5.109000e+03</td>\n",
              "      <td>5.109000e+03</td>\n",
              "      <td>5.109000e+03</td>\n",
              "      <td>5.109000e+03</td>\n",
              "      <td>5.109000e+03</td>\n",
              "      <td>5.109000e+03</td>\n",
              "    </tr>\n",
              "    <tr>\n",
              "      <th>mean</th>\n",
              "      <td>3.077275e-16</td>\n",
              "      <td>2.566486e-15</td>\n",
              "      <td>-1.873613e-15</td>\n",
              "      <td>-1.765187e-16</td>\n",
              "      <td>2.969504e-16</td>\n",
              "      <td>-3.685315e-16</td>\n",
              "      <td>-9.878356e-16</td>\n",
              "      <td>-1.758233e-16</td>\n",
              "      <td>-1.199536e-15</td>\n",
              "      <td>3.875241e-16</td>\n",
              "      <td>3.076485e-15</td>\n",
              "      <td>-8.655350e-17</td>\n",
              "      <td>3.632183e-16</td>\n",
              "      <td>8.254201e-16</td>\n",
              "      <td>-1.592863e-17</td>\n",
              "    </tr>\n",
              "    <tr>\n",
              "      <th>std</th>\n",
              "      <td>1.000098e+00</td>\n",
              "      <td>1.000098e+00</td>\n",
              "      <td>1.000098e+00</td>\n",
              "      <td>1.000098e+00</td>\n",
              "      <td>1.000098e+00</td>\n",
              "      <td>1.000098e+00</td>\n",
              "      <td>1.000098e+00</td>\n",
              "      <td>1.000098e+00</td>\n",
              "      <td>1.000098e+00</td>\n",
              "      <td>1.000098e+00</td>\n",
              "      <td>1.000098e+00</td>\n",
              "      <td>1.000098e+00</td>\n",
              "      <td>1.000098e+00</td>\n",
              "      <td>1.000098e+00</td>\n",
              "      <td>1.000098e+00</td>\n",
              "    </tr>\n",
              "    <tr>\n",
              "      <th>min</th>\n",
              "      <td>-1.908332e+00</td>\n",
              "      <td>-3.286375e-01</td>\n",
              "      <td>-2.389715e-01</td>\n",
              "      <td>-1.126761e+00</td>\n",
              "      <td>-2.387575e+00</td>\n",
              "      <td>-8.404837e-01</td>\n",
              "      <td>-1.381830e+00</td>\n",
              "      <td>-6.576283e-02</td>\n",
              "      <td>-1.156812e+00</td>\n",
              "      <td>-4.369314e-01</td>\n",
              "      <td>-3.941568e-01</td>\n",
              "      <td>-1.016380e+00</td>\n",
              "      <td>-4.574175e-01</td>\n",
              "      <td>-7.668935e-01</td>\n",
              "      <td>-4.273627e-01</td>\n",
              "    </tr>\n",
              "    <tr>\n",
              "      <th>25%</th>\n",
              "      <td>-8.062312e-01</td>\n",
              "      <td>-3.286375e-01</td>\n",
              "      <td>-2.389715e-01</td>\n",
              "      <td>-6.382516e-01</td>\n",
              "      <td>-6.844508e-01</td>\n",
              "      <td>-8.404837e-01</td>\n",
              "      <td>-1.381830e+00</td>\n",
              "      <td>-6.576283e-02</td>\n",
              "      <td>-1.156812e+00</td>\n",
              "      <td>-4.369314e-01</td>\n",
              "      <td>-3.941568e-01</td>\n",
              "      <td>-1.016380e+00</td>\n",
              "      <td>-4.574175e-01</td>\n",
              "      <td>-7.668935e-01</td>\n",
              "      <td>-4.273627e-01</td>\n",
              "    </tr>\n",
              "    <tr>\n",
              "      <th>50%</th>\n",
              "      <td>7.827984e-02</td>\n",
              "      <td>-3.286375e-01</td>\n",
              "      <td>-2.389715e-01</td>\n",
              "      <td>-3.149342e-01</td>\n",
              "      <td>-1.082059e-01</td>\n",
              "      <td>-8.404837e-01</td>\n",
              "      <td>7.236782e-01</td>\n",
              "      <td>-6.576283e-02</td>\n",
              "      <td>8.644443e-01</td>\n",
              "      <td>-4.369314e-01</td>\n",
              "      <td>-3.941568e-01</td>\n",
              "      <td>9.838840e-01</td>\n",
              "      <td>-4.574175e-01</td>\n",
              "      <td>-7.668935e-01</td>\n",
              "      <td>-4.273627e-01</td>\n",
              "    </tr>\n",
              "    <tr>\n",
              "      <th>75%</th>\n",
              "      <td>7.858887e-01</td>\n",
              "      <td>-3.286375e-01</td>\n",
              "      <td>-2.389715e-01</td>\n",
              "      <td>1.755632e-01</td>\n",
              "      <td>5.320663e-01</td>\n",
              "      <td>1.189791e+00</td>\n",
              "      <td>7.236782e-01</td>\n",
              "      <td>-6.576283e-02</td>\n",
              "      <td>8.644443e-01</td>\n",
              "      <td>-4.369314e-01</td>\n",
              "      <td>-3.941568e-01</td>\n",
              "      <td>9.838840e-01</td>\n",
              "      <td>-4.574175e-01</td>\n",
              "      <td>1.303962e+00</td>\n",
              "      <td>-4.273627e-01</td>\n",
              "    </tr>\n",
              "    <tr>\n",
              "      <th>max</th>\n",
              "      <td>1.714625e+00</td>\n",
              "      <td>3.042866e+00</td>\n",
              "      <td>4.184599e+00</td>\n",
              "      <td>3.657189e+00</td>\n",
              "      <td>8.791577e+00</td>\n",
              "      <td>1.189791e+00</td>\n",
              "      <td>7.236782e-01</td>\n",
              "      <td>1.520616e+01</td>\n",
              "      <td>8.644443e-01</td>\n",
              "      <td>2.288689e+00</td>\n",
              "      <td>2.537062e+00</td>\n",
              "      <td>9.838840e-01</td>\n",
              "      <td>2.186187e+00</td>\n",
              "      <td>1.303962e+00</td>\n",
              "      <td>2.339933e+00</td>\n",
              "    </tr>\n",
              "  </tbody>\n",
              "</table>\n",
              "</div>"
            ],
            "text/plain": [
              "                age  ... smoking_status_smokes\n",
              "count  5.109000e+03  ...          5.109000e+03\n",
              "mean   3.077275e-16  ...         -1.592863e-17\n",
              "std    1.000098e+00  ...          1.000098e+00\n",
              "min   -1.908332e+00  ...         -4.273627e-01\n",
              "25%   -8.062312e-01  ...         -4.273627e-01\n",
              "50%    7.827984e-02  ...         -4.273627e-01\n",
              "75%    7.858887e-01  ...         -4.273627e-01\n",
              "max    1.714625e+00  ...          2.339933e+00\n",
              "\n",
              "[8 rows x 15 columns]"
            ]
          },
          "metadata": {
            "tags": []
          },
          "execution_count": 55
        }
      ]
    },
    {
      "cell_type": "markdown",
      "metadata": {
        "id": "BUfFqxSq_T0G"
      },
      "source": [
        "###### Subdivision en échantillon d'apprentissage et de test\n",
        "Nous partitionnons les données en 75% observations pour l'apprentissage, 25% pour le test. Nous nous assurons d'avoir les même propostion d'observations positives dans les deux sous-échatillons par un tirage stractifié"
      ]
    },
    {
      "cell_type": "code",
      "metadata": {
        "id": "8bN9xpQR9uWt"
      },
      "source": [
        "## Séparation du JDD en Train/Test\n",
        "from sklearn.model_selection import train_test_split\n",
        "\n",
        "Xtrain, Xtest, ytrain, ytest = train_test_split(X,Y, test_size=0.25, random_state=42)"
      ],
      "execution_count": null,
      "outputs": []
    },
    {
      "cell_type": "code",
      "metadata": {
        "colab": {
          "base_uri": "https://localhost:8080/"
        },
        "id": "aAAkEmTS_9k0",
        "outputId": "0309aa3f-8523-4970-9846-79b0cff04d3b"
      },
      "source": [
        "print(Xtrain, ytrain)"
      ],
      "execution_count": null,
      "outputs": [
        {
          "output_type": "stream",
          "text": [
            "        age  hypertension  ...  smoking_status_never smoked  smoking_status_smokes\n",
            "3999  24.00           0.0  ...                          1.0                    0.0\n",
            "3575  41.00           0.0  ...                          0.0                    0.0\n",
            "3032  52.00           0.0  ...                          0.0                    0.0\n",
            "1867  55.00           0.0  ...                          0.0                    0.0\n",
            "494   55.00           0.0  ...                          0.0                    0.0\n",
            "...     ...           ...  ...                          ...                    ...\n",
            "4426  61.00           0.0  ...                          1.0                    0.0\n",
            "466   61.00           1.0  ...                          0.0                    1.0\n",
            "3092   1.16           0.0  ...                          0.0                    0.0\n",
            "3772  38.00           0.0  ...                          1.0                    0.0\n",
            "860   46.00           0.0  ...                          0.0                    1.0\n",
            "\n",
            "[3831 rows x 15 columns] 3999    0.0\n",
            "3575    0.0\n",
            "3032    0.0\n",
            "1867    0.0\n",
            "494     0.0\n",
            "       ... \n",
            "4426    0.0\n",
            "466     0.0\n",
            "3092    0.0\n",
            "3772    0.0\n",
            "860     0.0\n",
            "Name: stroke, Length: 3831, dtype: float64\n"
          ],
          "name": "stdout"
        }
      ]
    },
    {
      "cell_type": "code",
      "metadata": {
        "colab": {
          "base_uri": "https://localhost:8080/"
        },
        "id": "Y-g-_AZSAEqk",
        "outputId": "5a2a14e3-bc2c-435c-f3f4-00a9b16a46f1"
      },
      "source": [
        "print(Xtest, ytest)"
      ],
      "execution_count": null,
      "outputs": [
        {
          "output_type": "stream",
          "text": [
            "       age  hypertension  ...  smoking_status_never smoked  smoking_status_smokes\n",
            "4687  31.0           0.0  ...                          0.0                    0.0\n",
            "4477  40.0           0.0  ...                          1.0                    0.0\n",
            "3520  52.0           0.0  ...                          1.0                    0.0\n",
            "4354  79.0           1.0  ...                          1.0                    0.0\n",
            "3825  75.0           0.0  ...                          1.0                    0.0\n",
            "...    ...           ...  ...                          ...                    ...\n",
            "1533  54.0           0.0  ...                          1.0                    0.0\n",
            "2437   8.0           0.0  ...                          0.0                    0.0\n",
            "3164  50.0           0.0  ...                          0.0                    0.0\n",
            "92    57.0           0.0  ...                          1.0                    0.0\n",
            "4675  28.0           0.0  ...                          0.0                    1.0\n",
            "\n",
            "[1278 rows x 15 columns] 4687    0.0\n",
            "4477    0.0\n",
            "3520    0.0\n",
            "4354    0.0\n",
            "3825    0.0\n",
            "       ... \n",
            "1533    0.0\n",
            "2437    0.0\n",
            "3164    0.0\n",
            "92      1.0\n",
            "4675    0.0\n",
            "Name: stroke, Length: 1278, dtype: float64\n"
          ],
          "name": "stdout"
        }
      ]
    },
    {
      "cell_type": "markdown",
      "metadata": {
        "id": "f6TG30X8VMyF"
      },
      "source": [
        "#### Machine Learning (Test models)"
      ]
    },
    {
      "cell_type": "code",
      "metadata": {
        "id": "UfxaBvztV95t"
      },
      "source": [
        "# import models\n",
        "from sklearn.model_selection import train_test_split, GridSearchCV\n",
        "from sklearn.linear_model import LogisticRegression\n",
        "from sklearn.linear_model import LinearRegression\n",
        "from sklearn.svm import LinearSVC\n",
        "from sklearn.svm import SVC\n",
        "from sklearn.svm import LinearSVR\n",
        "from sklearn.neighbors import KNeighborsClassifier\n",
        "from sklearn.pipeline import make_pipeline\n",
        "from sklearn.pipeline import Pipeline\n",
        "#from sklearn import metrics\n",
        "from sklearn.model_selection import cross_val_score, validation_curve\n",
        "from sklearn.metrics import accuracy_score, confusion_matrix, precision_score, recall_score, f1_score\n",
        "from sklearn.ensemble import RandomForestClassifier\n",
        "from sklearn.ensemble import RandomForestRegressor"
      ],
      "execution_count": null,
      "outputs": []
    },
    {
      "cell_type": "code",
      "metadata": {
        "colab": {
          "base_uri": "https://localhost:8080/"
        },
        "id": "wC5o7Ptsj2YJ",
        "outputId": "bf09b6d7-7498-4abd-e5dd-9ab0e8177722"
      },
      "source": [
        "# Sur-échantillonnage du JDD\n",
        "from imblearn.over_sampling import RandomOverSampler\n",
        "from imblearn.metrics import classification_report_imbalanced\n",
        "\n",
        "rOs = RandomOverSampler()\n",
        "\n",
        "#récupération des données xtrain->x_ro et ytrain ->y_ro\n",
        "X_ro, y_ro = rOs.fit_resample(Xtrain, ytrain)"
      ],
      "execution_count": null,
      "outputs": [
        {
          "output_type": "stream",
          "text": [
            "/usr/local/lib/python3.7/dist-packages/sklearn/externals/six.py:31: FutureWarning: The module is deprecated in version 0.21 and will be removed in version 0.23 since we've dropped support for Python 2.7. Please rely on the official version of six (https://pypi.org/project/six/).\n",
            "  \"(https://pypi.org/project/six/).\", FutureWarning)\n",
            "/usr/local/lib/python3.7/dist-packages/sklearn/utils/deprecation.py:144: FutureWarning: The sklearn.neighbors.base module is  deprecated in version 0.22 and will be removed in version 0.24. The corresponding classes / functions should instead be imported from sklearn.neighbors. Anything that cannot be imported from sklearn.neighbors is now part of the private API.\n",
            "  warnings.warn(message, FutureWarning)\n",
            "/usr/local/lib/python3.7/dist-packages/sklearn/utils/deprecation.py:144: FutureWarning: The sklearn.metrics.classification module is  deprecated in version 0.22 and will be removed in version 0.24. The corresponding classes / functions should instead be imported from sklearn.metrics. Anything that cannot be imported from sklearn.metrics is now part of the private API.\n",
            "  warnings.warn(message, FutureWarning)\n",
            "/usr/local/lib/python3.7/dist-packages/sklearn/utils/deprecation.py:87: FutureWarning: Function safe_indexing is deprecated; safe_indexing is deprecated in version 0.22 and will be removed in version 0.24.\n",
            "  warnings.warn(msg, category=FutureWarning)\n"
          ],
          "name": "stderr"
        }
      ]
    },
    {
      "cell_type": "code",
      "metadata": {
        "id": "2cs-8PfhalXx"
      },
      "source": [
        "#RandomForestClassifier\n",
        "pipe = make_pipeline(RandomForestClassifier())\n",
        "pipe.fit(Xtrain, ytrain) # application sur les données d'entrainnement\n",
        "pred = pipe.predict(Xtest)\n",
        "print(pipe.score(Xtest, ytest)) # Application sur les données de test \n",
        "print(classification_report_imbalanced(ytest, pred))"
      ],
      "execution_count": null,
      "outputs": []
    },
    {
      "cell_type": "code",
      "metadata": {
        "id": "0yHNrYY-bJFz",
        "colab": {
          "base_uri": "https://localhost:8080/"
        },
        "outputId": "a6266338-a0ea-47f0-80fa-cbcb13e1a250"
      },
      "source": [
        "# entrainement du modèle de Random forest Classifier (sur_echantillon)\n",
        "rfcl = RandomForestClassifier()\n",
        "rfcl.fit(X_ro, y_ro)\n",
        "\n",
        "#Affichage des résultats\n",
        "y_pred = rfcl.predict(Xtest)\n",
        "\n",
        "print(classification_report_imbalanced(ytest, y_pred))"
      ],
      "execution_count": null,
      "outputs": [
        {
          "output_type": "stream",
          "text": [
            "                   pre       rec       spe        f1       geo       iba       sup\n",
            "\n",
            "        0.0       0.94      0.99      0.05      0.96      0.22      0.05      1198\n",
            "        1.0       0.25      0.05      0.99      0.08      0.22      0.04        80\n",
            "\n",
            "avg / total       0.90      0.93      0.11      0.91      0.22      0.05      1278\n",
            "\n"
          ],
          "name": "stdout"
        }
      ]
    },
    {
      "cell_type": "code",
      "metadata": {
        "colab": {
          "base_uri": "https://localhost:8080/"
        },
        "id": "T0YDChcRw5Ro",
        "outputId": "210345d7-05ce-461d-be3e-eec8ef7c62b0"
      },
      "source": [
        "# Pour optimiser notre algorithme de machine learning (Random forest Classfier). On utilisera la méthode GridSearchCV\n",
        "# Dans un premier temps on configure les hyperparamètres\n",
        " \n",
        "n_estimators = list(range(100, 401, 150))\n",
        "max_features = [\"sqrt\", \"log2\"]\n",
        "max_depth = list(range(10, 50, 10))\n",
        "max_depth.append(None)\n",
        "min_samples_split = [2, 4]\n",
        "min_samples_leaf = [2, 5, 10]\n",
        "bootstrap = [True, False]\n",
        "\n",
        "param_grid_forest = dict(n_estimators=n_estimators, max_features=max_features, max_depth=max_depth, min_samples_split=min_samples_split, min_samples_leaf=min_samples_leaf, bootstrap=bootstrap)\n",
        "print(param_grid_forest)"
      ],
      "execution_count": null,
      "outputs": [
        {
          "output_type": "stream",
          "text": [
            "{'n_estimators': [100, 250, 400], 'max_features': ['sqrt', 'log2'], 'max_depth': [10, 20, 30, 40, None], 'min_samples_split': [2, 4], 'min_samples_leaf': [2, 5, 10], 'bootstrap': [True, False]}\n"
          ],
          "name": "stdout"
        }
      ]
    },
    {
      "cell_type": "code",
      "metadata": {
        "colab": {
          "base_uri": "https://localhost:8080/"
        },
        "id": "FaBxn24ylPSW",
        "outputId": "295e01c3-600f-4aba-fed7-f2b6d6a6b108"
      },
      "source": [
        "# On entraine notre modêle avec les paramêtres rebseigné dans le dictionnaire \"param_grid_forest\" et une cross-validation de 10\n",
        "grid_search_forest = GridSearchCV(rfcl, param_grid_forest, cv=10, scoring='accuracy')\n",
        "grid_search_forest.fit(X_ro, y_ro)"
      ],
      "execution_count": null,
      "outputs": [
        {
          "output_type": "execute_result",
          "data": {
            "text/plain": [
              "GridSearchCV(cv=10, error_score=nan,\n",
              "             estimator=RandomForestClassifier(bootstrap=True, ccp_alpha=0.0,\n",
              "                                              class_weight=None,\n",
              "                                              criterion='gini', max_depth=None,\n",
              "                                              max_features='auto',\n",
              "                                              max_leaf_nodes=None,\n",
              "                                              max_samples=None,\n",
              "                                              min_impurity_decrease=0.0,\n",
              "                                              min_impurity_split=None,\n",
              "                                              min_samples_leaf=1,\n",
              "                                              min_samples_split=2,\n",
              "                                              min_weight_fraction_leaf=0.0,\n",
              "                                              n_estimators=100, n_jobs=None,\n",
              "                                              oob_score=False,\n",
              "                                              random_state=None, verbose=0,\n",
              "                                              warm_start=False),\n",
              "             iid='deprecated', n_jobs=None,\n",
              "             param_grid={'bootstrap': [True, False],\n",
              "                         'max_depth': [10, 20, 30, 40, None],\n",
              "                         'max_features': ['sqrt', 'log2'],\n",
              "                         'min_samples_leaf': [2, 5, 10],\n",
              "                         'min_samples_split': [2, 4],\n",
              "                         'n_estimators': [100, 250, 400]},\n",
              "             pre_dispatch='2*n_jobs', refit=True, return_train_score=False,\n",
              "             scoring='accuracy', verbose=0)"
            ]
          },
          "metadata": {
            "tags": []
          },
          "execution_count": 115
        }
      ]
    },
    {
      "cell_type": "code",
      "metadata": {
        "colab": {
          "base_uri": "https://localhost:8080/"
        },
        "id": "N4nxvt_yyY5d",
        "outputId": "653caca1-8692-4b1a-c619-a918d66bb7d1"
      },
      "source": [
        "# On récupère la moyenne de chaque résultat\n",
        "scores_forest = grid_search_forest.cv_results_['mean_test_score']\n",
        "print(scores_forest)"
      ],
      "execution_count": null,
      "outputs": [
        {
          "output_type": "stream",
          "text": [
            "[0.94511272 0.94497555 0.94429342 0.9440202  0.94456739 0.94688718\n",
            " 0.93023021 0.9274989  0.93023077 0.93077796 0.92804591 0.92818177\n",
            " 0.910023   0.91138968 0.91002561 0.90893029 0.90934106 0.90852269\n",
            " 0.94347412 0.94688774 0.94552181 0.94511253 0.94620562 0.94634167\n",
            " 0.93050455 0.92872785 0.93200561 0.9280446  0.93050287 0.93036589\n",
            " 0.9109791  0.90893197 0.90975164 0.90961428 0.91097835 0.90811267\n",
            " 0.9857998  0.98716537 0.98607284 0.98552639 0.98620945 0.98620908\n",
            " 0.96026752 0.95985787 0.9613593  0.95985694 0.96067605 0.96122269\n",
            " 0.93405367 0.93405516 0.93200672 0.93350722 0.93364532 0.93282472\n",
            " 0.98757502 0.98607247 0.98552658 0.98634644 0.98620983 0.98593604\n",
            " 0.95862836 0.96149591 0.96149628 0.95958577 0.96054019 0.96176932\n",
            " 0.93214203 0.93296152 0.93323456 0.93268885 0.93323456 0.93296208\n",
            " 0.98579962 0.98689214 0.98648249 0.98607284 0.98661873 0.98661892\n",
            " 0.96095039 0.96013035 0.96190556 0.95985713 0.95999355 0.96095021\n",
            " 0.9340533  0.93296114 0.93350741 0.93309571 0.93378138 0.93227864\n",
            " 0.98538997 0.98593623 0.98538997 0.98525429 0.98593586 0.98579999\n",
            " 0.96149666 0.96149591 0.96094965 0.96176876 0.96054019 0.96054075\n",
            " 0.93405274 0.93459993 0.93418991 0.93118593 0.9336442  0.93405404\n",
            " 0.98648193 0.98484371 0.98661948 0.98538978 0.98648305 0.98771125\n",
            " 0.96081341 0.96245164 0.96108645 0.96108607 0.96135893 0.9604032\n",
            " 0.93432782 0.93309888 0.93378156 0.93214408 0.93309701 0.93378044\n",
            " 0.98552695 0.98689177 0.98607266 0.98648286 0.98634569 0.9857998\n",
            " 0.95985806 0.96122287 0.96081378 0.95958465 0.96231577 0.96149591\n",
            " 0.93350759 0.93446425 0.93296189 0.93255299 0.93268867 0.93391762\n",
            " 0.98579962 0.98607266 0.98580055 0.98566338 0.98689158 0.98566319\n",
            " 0.95862892 0.9616329  0.96013016 0.96081378 0.96176839 0.96149554\n",
            " 0.93227827 0.93173164 0.93391687 0.932416   0.93268848 0.93446257\n",
            " 0.98634513 0.98702857 0.98634607 0.98539034 0.98593586 0.98593604\n",
            " 0.96122287 0.96094984 0.96149535 0.96026696 0.95931124 0.96026678\n",
            " 0.93487446 0.93432652 0.93200561 0.93309981 0.9352828  0.93241488\n",
            " 0.95057291 0.94989172 0.95180298 0.94920754 0.9507099  0.95016438\n",
            " 0.94128777 0.93937874 0.94006106 0.93964954 0.93855795 0.94060732\n",
            " 0.9261352  0.92681677 0.9258603  0.92490532 0.92395053 0.92531516\n",
            " 0.94770555 0.94934601 0.94961775 0.94852541 0.95030062 0.95152994\n",
            " 0.93855851 0.93896909 0.93951479 0.93937967 0.94074617 0.93937762\n",
            " 0.92708981 0.92572332 0.92504193 0.92654318 0.92449642 0.92408602\n",
            " 0.99289953 0.99317219 0.99344542 0.99262537 0.99344579 0.99371883\n",
            " 0.97651541 0.97692412 0.97787985 0.97719679 0.97719679 0.9777438\n",
            " 0.95494245 0.95357726 0.9553521  0.9558978  0.95480584 0.95521642\n",
            " 0.99262668 0.99317238 0.99344542 0.9934456  0.99317257 0.99399131\n",
            " 0.9774702  0.97733471 0.97760718 0.97596784 0.97774324 0.97706036\n",
            " 0.95248548 0.95398654 0.95480584 0.95371443 0.95466922 0.95494282\n",
            " 0.99235383 0.99330881 0.99330918 0.99330937 0.99358203 0.99371902\n",
            " 0.97692394 0.97801665 0.97637823 0.97665202 0.97842592 0.97828931\n",
            " 0.95507999 0.95494245 0.9552153  0.95139184 0.95466922 0.95480621\n",
            " 0.99303614 0.99358203 0.99399149 0.99248988 0.99412811 0.99330899\n",
            " 0.97651541 0.97760756 0.9777438  0.97624255 0.97651447 0.97665109\n",
            " 0.95384974 0.95371331 0.95412389 0.95371313 0.95453354 0.95521567\n",
            " 0.99303577 0.99358203 0.99371864 0.99330918 0.99344579 0.99344542\n",
            " 0.97610482 0.97760718 0.97719809 0.97801627 0.97760718 0.97733377\n",
            " 0.95303249 0.9537135  0.95425995 0.95371275 0.9546696  0.95589836\n",
            " 0.99330899 0.99330899 0.99317238 0.99317257 0.99358203 0.99303577\n",
            " 0.97733396 0.97678788 0.9774702  0.97665127 0.97692394 0.97815382\n",
            " 0.95357763 0.95426013 0.95357707 0.95371424 0.95466922 0.95494189\n",
            " 0.99399131 0.99399168 0.99317257 0.99317238 0.9938547  0.99330918\n",
            " 0.97733471 0.97706036 0.97828913 0.97733452 0.97760662 0.97801646\n",
            " 0.95207602 0.95453448 0.95521549 0.95371369 0.95480584 0.95453298\n",
            " 0.99358203 0.99385525 0.99317257 0.99303577 0.99317257 0.99330881\n",
            " 0.97555912 0.97692375 0.97788003 0.97569499 0.97801665 0.97624162\n",
            " 0.95439656 0.95426013 0.95453336 0.95494375 0.95425939 0.9550785 ]\n"
          ],
          "name": "stdout"
        }
      ]
    },
    {
      "cell_type": "code",
      "metadata": {
        "colab": {
          "base_uri": "https://localhost:8080/"
        },
        "id": "YE9S9hhJzC3m",
        "outputId": "304f0439-63e9-4ec2-8e64-abb74c14764b"
      },
      "source": [
        "# On récupère les meilleurs paramêtres qui nous permettra d'entrainer notre modèle\n",
        "print(grid_search_forest.best_score_)\n",
        "\n",
        "print(grid_search_forest.best_params_)\n",
        "\n",
        "best_params_forest = grid_search_forest.best_params_"
      ],
      "execution_count": null,
      "outputs": [
        {
          "output_type": "stream",
          "text": [
            "0.9941281059199785\n",
            "{'bootstrap': False, 'max_depth': 30, 'max_features': 'log2', 'min_samples_leaf': 2, 'min_samples_split': 4, 'n_estimators': 250}\n"
          ],
          "name": "stdout"
        }
      ]
    },
    {
      "cell_type": "code",
      "metadata": {
        "id": "qKjmx9sP22K3"
      },
      "source": [
        "rfcl = RandomForestClassifier(n_estimators=best_params_forest['n_estimators'], max_depth=best_params_forest['max_depth'], bootstrap=best_params_forest['bootstrap'], max_features=best_params_forest['max_features'], min_samples_leaf=best_params_forest['min_samples_leaf'], min_samples_split=best_params_forest['min_samples_split'])\n",
        "rfcl.fit(X_ro, y_ro)\n",
        "\n",
        "predict_rfcl = rfcl.predict(Xtest)"
      ],
      "execution_count": null,
      "outputs": []
    },
    {
      "cell_type": "code",
      "metadata": {
        "colab": {
          "base_uri": "https://localhost:8080/"
        },
        "id": "rE4kbqwq56Un",
        "outputId": "5bd2d261-39c4-4274-b30c-ba5f8a3edc04"
      },
      "source": [
        "#On calcule la précision\n",
        "accuracy_score(predict_rfcl, ytest)"
      ],
      "execution_count": null,
      "outputs": [
        {
          "output_type": "execute_result",
          "data": {
            "text/plain": [
              "0.9295774647887324"
            ]
          },
          "metadata": {
            "tags": []
          },
          "execution_count": 120
        }
      ]
    },
    {
      "cell_type": "code",
      "metadata": {
        "colab": {
          "base_uri": "https://localhost:8080/"
        },
        "id": "2ORpQ1ff6CXJ",
        "outputId": "2c00a451-f10d-454f-f8c7-4886b05db8d7"
      },
      "source": [
        "#On regarde en profondeur le resutat via une confusion matrix afin de voir si notre modèle réussi à bien trouver la bonne valeur\n",
        "confusion_matrix(ytest, predict_rfcl)"
      ],
      "execution_count": null,
      "outputs": [
        {
          "output_type": "execute_result",
          "data": {
            "text/plain": [
              "array([[1184,   14],\n",
              "       [  76,    4]])"
            ]
          },
          "metadata": {
            "tags": []
          },
          "execution_count": 121
        }
      ]
    },
    {
      "cell_type": "code",
      "metadata": {
        "colab": {
          "base_uri": "https://localhost:8080/"
        },
        "id": "yRXc2PJl0gmg",
        "outputId": "ac8d1868-74f8-447a-faf8-b4daf9145116"
      },
      "source": [
        "#On regarde aussi la précision de notre modèle\n",
        "print(precision_score(ytest, predict_rfcl))\n",
        "print(recall_score(ytest, predict_rfcl))\n",
        "print(f1_score(ytest, predict_rfcl))\n",
        "\n"
      ],
      "execution_count": null,
      "outputs": [
        {
          "output_type": "stream",
          "text": [
            "0.2222222222222222\n",
            "0.05\n",
            "0.0816326530612245\n"
          ],
          "name": "stdout"
        }
      ]
    },
    {
      "cell_type": "markdown",
      "metadata": {
        "id": "6wSyIG4q78jJ"
      },
      "source": [
        ""
      ]
    },
    {
      "cell_type": "code",
      "metadata": {
        "id": "dPqoSBKzYIcE"
      },
      "source": [
        "#LogisticRegression\n",
        "pipe = make_pipeline(LogisticRegression())\n",
        "pipe.fit(Xtrain, ytrain) # application sur les données d'entrainnement\n",
        "pipe.score(Xtest, ytest) # Application sur les données de test \n",
        "y_pred = pipe.predict(Xtest)\n",
        "print(classification_report_imbalanced(ytest, y_pred))\n"
      ],
      "execution_count": null,
      "outputs": []
    },
    {
      "cell_type": "code",
      "metadata": {
        "id": "wiP26-pMgwR2",
        "colab": {
          "base_uri": "https://localhost:8080/"
        },
        "outputId": "319a654c-6487-4e03-9ed1-243cfd1fd82a"
      },
      "source": [
        "# entrainement du modèle de régression logistique avec les données sur_écahntillonnées\n",
        "lgr = LogisticRegression()\n",
        "lgr.fit(X_ro, y_ro)\n",
        "\n",
        "#Affichage des résultats\n",
        "y_pred = lgr.predict(Xtest)\n",
        "\n",
        "print(classification_report_imbalanced(ytest, y_pred))"
      ],
      "execution_count": null,
      "outputs": [
        {
          "output_type": "stream",
          "text": [
            "                   pre       rec       spe        f1       geo       iba       sup\n",
            "\n",
            "        0.0       0.98      0.74      0.72      0.84      0.73      0.54      1198\n",
            "        1.0       0.16      0.72      0.74      0.26      0.73      0.54        80\n",
            "\n",
            "avg / total       0.92      0.74      0.73      0.80      0.73      0.54      1278\n",
            "\n"
          ],
          "name": "stdout"
        },
        {
          "output_type": "stream",
          "text": [
            "/usr/local/lib/python3.7/dist-packages/sklearn/linear_model/_logistic.py:940: ConvergenceWarning: lbfgs failed to converge (status=1):\n",
            "STOP: TOTAL NO. of ITERATIONS REACHED LIMIT.\n",
            "\n",
            "Increase the number of iterations (max_iter) or scale the data as shown in:\n",
            "    https://scikit-learn.org/stable/modules/preprocessing.html\n",
            "Please also refer to the documentation for alternative solver options:\n",
            "    https://scikit-learn.org/stable/modules/linear_model.html#logistic-regression\n",
            "  extra_warning_msg=_LOGISTIC_SOLVER_CONVERGENCE_MSG)\n"
          ],
          "name": "stderr"
        }
      ]
    },
    {
      "cell_type": "code",
      "metadata": {
        "colab": {
          "base_uri": "https://localhost:8080/"
        },
        "id": "J5KLnwNLI0du",
        "outputId": "fb2c3de1-f139-431f-95a2-d02eec1aaf19"
      },
      "source": [
        "lgr = LogisticRegression(max_iter=4000)\n",
        "lgr.fit(X_ro, y_ro)\n",
        "scores = cross_val_score(lgr, Xtrain, ytrain, cv=10)\n",
        "\n",
        "print(scores)"
      ],
      "execution_count": null,
      "outputs": [
        {
          "output_type": "stream",
          "text": [
            "[0.95572917 0.95561358 0.95561358 0.95561358 0.95561358 0.95561358\n",
            " 0.95561358 0.95561358 0.95561358 0.95561358]\n"
          ],
          "name": "stdout"
        }
      ]
    },
    {
      "cell_type": "code",
      "metadata": {
        "colab": {
          "base_uri": "https://localhost:8080/"
        },
        "id": "n8IOB-l5XkAn",
        "outputId": "e336d26d-45d2-4aa9-c544-a22464f6c875"
      },
      "source": [
        "predict_lgr = lgr.predict(Xtest)\n",
        "accuracy_score(predict, ytest)"
      ],
      "execution_count": null,
      "outputs": [
        {
          "output_type": "execute_result",
          "data": {
            "text/plain": [
              "0.7433489827856025"
            ]
          },
          "metadata": {
            "tags": []
          },
          "execution_count": 76
        }
      ]
    },
    {
      "cell_type": "code",
      "metadata": {
        "id": "5Hx44gnDYBqN",
        "colab": {
          "base_uri": "https://localhost:8080/"
        },
        "outputId": "e9fe26e5-b77c-4a33-9acf-461a79105f47"
      },
      "source": [
        "confusion_matrix(ytest, predict)"
      ],
      "execution_count": null,
      "outputs": [
        {
          "output_type": "execute_result",
          "data": {
            "text/plain": [
              "array([[892, 306],\n",
              "       [ 22,  58]])"
            ]
          },
          "metadata": {
            "tags": []
          },
          "execution_count": 77
        }
      ]
    },
    {
      "cell_type": "code",
      "metadata": {
        "colab": {
          "base_uri": "https://localhost:8080/"
        },
        "id": "lgT4_uoI1txj",
        "outputId": "823b5bc2-aa30-49b8-ef02-d49dd721578d"
      },
      "source": [
        "print(precision_score(ytest, predict_lgr))\n",
        "print(recall_score(ytest, predict_lgr))\n",
        "print(f1_score(ytest, predict_lgr))"
      ],
      "execution_count": null,
      "outputs": [
        {
          "output_type": "stream",
          "text": [
            "0.15934065934065933\n",
            "0.725\n",
            "0.26126126126126126\n"
          ],
          "name": "stdout"
        }
      ]
    },
    {
      "cell_type": "code",
      "metadata": {
        "id": "i6_kpmNTYpEB"
      },
      "source": [
        "##KNN\n",
        "pipe = make_pipeline(KNeighborsClassifier())\n",
        "pipe.fit(Xtrain, ytrain) # application sur les données d'entrainnement\n",
        "pipe.score(Xtest, ytest) # Application sur les données de test "
      ],
      "execution_count": null,
      "outputs": []
    },
    {
      "cell_type": "code",
      "metadata": {
        "colab": {
          "base_uri": "https://localhost:8080/"
        },
        "id": "sFpS4A32hJ5d",
        "outputId": "b8b66be0-505e-40d9-9b34-1084f72cceb1"
      },
      "source": [
        "# entrainement du modèle de KNN avec les données sur_écahntillonnées\n",
        "knn = KNeighborsClassifier()\n",
        "knn.fit(X_ro, y_ro)\n",
        "\n",
        "#Affichage des résultats\n",
        "y_pred = knn.predict(Xtest)\n",
        "\n",
        "print(classification_report_imbalanced(ytest, y_pred))"
      ],
      "execution_count": null,
      "outputs": [
        {
          "output_type": "stream",
          "text": [
            "                   pre       rec       spe        f1       geo       iba       sup\n",
            "\n",
            "        0.0       0.95      0.88      0.34      0.92      0.55      0.31      1198\n",
            "        1.0       0.16      0.34      0.88      0.22      0.55      0.28        80\n",
            "\n",
            "avg / total       0.90      0.85      0.37      0.87      0.55      0.31      1278\n",
            "\n"
          ],
          "name": "stdout"
        }
      ]
    },
    {
      "cell_type": "code",
      "metadata": {
        "colab": {
          "base_uri": "https://localhost:8080/"
        },
        "id": "BHZlLIxhj2uP",
        "outputId": "5f551cc8-405a-4cf4-f54b-14f24b468a80"
      },
      "source": [
        "neighbor_range = list(range(1, 21))\n",
        "weights_knn = ['uniform', 'distance']\n",
        "param_grid_knn = dict(n_neighbors=neighbor_range, weights=weights_knn)\n",
        "\n",
        "print(param_grid_knn)\n"
      ],
      "execution_count": null,
      "outputs": [
        {
          "output_type": "stream",
          "text": [
            "{'n_neighbors': [1, 2, 3, 4, 5, 6, 7, 8, 9, 10, 11, 12, 13, 14, 15, 16, 17, 18, 19, 20], 'weights': ['uniform', 'distance']}\n"
          ],
          "name": "stdout"
        }
      ]
    },
    {
      "cell_type": "code",
      "metadata": {
        "colab": {
          "base_uri": "https://localhost:8080/"
        },
        "id": "E4uJfiH388DL",
        "outputId": "8108c91f-5a50-46bf-b12b-63eb5efd8595"
      },
      "source": [
        "grid_search_knn = GridSearchCV(knn, param_grid_knn, cv=10, scoring='accuracy')\n",
        "grid_search_knn.fit(X_ro, y_ro)"
      ],
      "execution_count": null,
      "outputs": [
        {
          "output_type": "execute_result",
          "data": {
            "text/plain": [
              "GridSearchCV(cv=10, error_score=nan,\n",
              "             estimator=KNeighborsClassifier(algorithm='auto', leaf_size=30,\n",
              "                                            metric='minkowski',\n",
              "                                            metric_params=None, n_jobs=None,\n",
              "                                            n_neighbors=5, p=2,\n",
              "                                            weights='uniform'),\n",
              "             iid='deprecated', n_jobs=None,\n",
              "             param_grid={'n_neighbors': [1, 2, 3, 4, 5, 6, 7, 8, 9, 10, 11, 12,\n",
              "                                         13, 14, 15, 16, 17, 18, 19, 20],\n",
              "                         'weights': ['uniform', 'distance']},\n",
              "             pre_dispatch='2*n_jobs', refit=True, return_train_score=False,\n",
              "             scoring='accuracy', verbose=0)"
            ]
          },
          "metadata": {
            "tags": []
          },
          "execution_count": 85
        }
      ]
    },
    {
      "cell_type": "code",
      "metadata": {
        "colab": {
          "base_uri": "https://localhost:8080/"
        },
        "id": "Esi8I7jtxK-d",
        "outputId": "7f39395d-dc9a-42cb-9661-0051c12e6999"
      },
      "source": [
        "scores_knn = grid_search_knn.cv_results_['mean_test_score']\n",
        "print(scores_knn)"
      ],
      "execution_count": null,
      "outputs": [
        {
          "output_type": "stream",
          "text": [
            "[0.97883371 0.97883371 0.97883371 0.97883371 0.95971958 0.96040208\n",
            " 0.95971958 0.95971958 0.94319996 0.94483856 0.94319996 0.94333658\n",
            " 0.92531497 0.92900145 0.92531497 0.92572444 0.91452896 0.92053653\n",
            " 0.91452896 0.91616718 0.90183038 0.91220767 0.90183038 0.90469811\n",
            " 0.89199953 0.90142091 0.89199953 0.89568619 0.88162335 0.89268203\n",
            " 0.88162335 0.88722165 0.87397737 0.88353499 0.87411379 0.8795751\n",
            " 0.86496526 0.87629847 0.86496526 0.87288484]\n"
          ],
          "name": "stdout"
        }
      ]
    },
    {
      "cell_type": "code",
      "metadata": {
        "colab": {
          "base_uri": "https://localhost:8080/"
        },
        "id": "c732bpXAsszi",
        "outputId": "91a2b1e0-a515-4101-bca6-dae4d32aee20"
      },
      "source": [
        "print(grid_search_knn.best_score_)\n",
        "\n",
        "print(grid_search_knn.best_params_)\n",
        "\n",
        "best_params_knn = grid_search_knn.best_params_"
      ],
      "execution_count": null,
      "outputs": [
        {
          "output_type": "stream",
          "text": [
            "0.978833709808482\n",
            "{'n_neighbors': 1, 'weights': 'uniform'}\n"
          ],
          "name": "stdout"
        }
      ]
    },
    {
      "cell_type": "code",
      "metadata": {
        "id": "Bu2pEDnUt1Sv"
      },
      "source": [
        "knn = KNeighborsClassifier(n_neighbors=best_params_knn['n_neighbors'], weights=best_params_knn['weights'])\n",
        "knn.fit(X_ro, y_ro)\n",
        "\n",
        "predict_knn = knn.predict(Xtest)"
      ],
      "execution_count": null,
      "outputs": []
    },
    {
      "cell_type": "code",
      "metadata": {
        "colab": {
          "base_uri": "https://localhost:8080/"
        },
        "id": "IbF1BxkrLqzs",
        "outputId": "4a9883eb-6182-4e3b-9f6e-9fce5f1f977c"
      },
      "source": [
        "accuracy_score(predict_knn, ytest)"
      ],
      "execution_count": null,
      "outputs": [
        {
          "output_type": "execute_result",
          "data": {
            "text/plain": [
              "0.8998435054773083"
            ]
          },
          "metadata": {
            "tags": []
          },
          "execution_count": 98
        }
      ]
    },
    {
      "cell_type": "code",
      "metadata": {
        "colab": {
          "base_uri": "https://localhost:8080/"
        },
        "id": "CPcyCvYgMMgc",
        "outputId": "38e7f767-cfeb-44f7-c350-22cf4988e8f4"
      },
      "source": [
        "confusion_matrix(ytest, predict_knn)"
      ],
      "execution_count": null,
      "outputs": [
        {
          "output_type": "execute_result",
          "data": {
            "text/plain": [
              "array([[1143,   55],\n",
              "       [  73,    7]])"
            ]
          },
          "metadata": {
            "tags": []
          },
          "execution_count": 99
        }
      ]
    },
    {
      "cell_type": "code",
      "metadata": {
        "colab": {
          "base_uri": "https://localhost:8080/"
        },
        "id": "RYj9mN1a2A5N",
        "outputId": "f8ae048e-7492-4f06-dc5c-4db30a309ddf"
      },
      "source": [
        "print(precision_score(ytest, predict_knn))\n",
        "print(recall_score(ytest, predict_knn))\n",
        "print(f1_score(ytest, predict_knn))"
      ],
      "execution_count": null,
      "outputs": [
        {
          "output_type": "stream",
          "text": [
            "0.11290322580645161\n",
            "0.0875\n",
            "0.09859154929577466\n"
          ],
          "name": "stdout"
        }
      ]
    },
    {
      "cell_type": "code",
      "metadata": {
        "id": "PzTxyr9uY7Mk"
      },
      "source": [
        "##svm_classif\n",
        "pipe = make_pipeline(LinearSVC())\n",
        "pipe.fit(Xtrain, ytrain) # application sur les données d'entrainnement\n",
        "pipe.score(Xtest, ytest) # Application sur les données de test \n",
        "\n",
        "#Affichage des résultats\n",
        "y_pred = pipe.predict(Xtest)\n",
        "\n",
        "print(classification_report_imbalanced(ytest, y_pred))"
      ],
      "execution_count": null,
      "outputs": []
    },
    {
      "cell_type": "code",
      "metadata": {
        "colab": {
          "base_uri": "https://localhost:8080/",
          "height": 1000
        },
        "id": "sGkZk3jcbtwH",
        "outputId": "a007c7a5-eec6-4a98-b155-c8b0cb0dcf3e"
      },
      "source": [
        "## Test\n",
        "model_svm = LinearSVC()\n",
        "model_svm.fit(Xtrain, ytrain)\n",
        "\n",
        "print('Train score : ', model_svm.score(Xtrain,ytrain))\n",
        "print('Test score : ', model_svm.score(Xtest,ytest))\n",
        "\n",
        "k_3 = np.arange(1,20)\n",
        "tr_score_3, val_score_3 = validation_curve(model_svm, Xtrain, ytrain, 'C', k_3, cv = 5)\n",
        "\n",
        "#5 splits sets de cross validation, on fait la moyenne des scores obtenus sur chacun des 5 splits\n",
        "\n",
        "train = model_svm.predict(Xtrain)\n",
        "predictions = model_svm.predict(Xtest)\n",
        "\n",
        "plt.plot(k_3, val_score_3.mean(axis = 1), label = 'validation')\n",
        "plt.plot(k_3, tr_score_3.mean(axis = 1), label = 'train')\n",
        "\n",
        "plt.ylabel('score')\n",
        "plt.xlabel('C')\n",
        "plt.legend()"
      ],
      "execution_count": null,
      "outputs": [
        {
          "output_type": "stream",
          "text": [
            "/usr/local/lib/python3.7/dist-packages/sklearn/svm/_base.py:947: ConvergenceWarning: Liblinear failed to converge, increase the number of iterations.\n",
            "  \"the number of iterations.\", ConvergenceWarning)\n"
          ],
          "name": "stderr"
        },
        {
          "output_type": "stream",
          "text": [
            "Train score :  0.9558861915948839\n",
            "Test score :  0.9374021909233177\n"
          ],
          "name": "stdout"
        },
        {
          "output_type": "stream",
          "text": [
            "/usr/local/lib/python3.7/dist-packages/sklearn/svm/_base.py:947: ConvergenceWarning: Liblinear failed to converge, increase the number of iterations.\n",
            "  \"the number of iterations.\", ConvergenceWarning)\n",
            "/usr/local/lib/python3.7/dist-packages/sklearn/svm/_base.py:947: ConvergenceWarning: Liblinear failed to converge, increase the number of iterations.\n",
            "  \"the number of iterations.\", ConvergenceWarning)\n",
            "/usr/local/lib/python3.7/dist-packages/sklearn/svm/_base.py:947: ConvergenceWarning: Liblinear failed to converge, increase the number of iterations.\n",
            "  \"the number of iterations.\", ConvergenceWarning)\n",
            "/usr/local/lib/python3.7/dist-packages/sklearn/svm/_base.py:947: ConvergenceWarning: Liblinear failed to converge, increase the number of iterations.\n",
            "  \"the number of iterations.\", ConvergenceWarning)\n",
            "/usr/local/lib/python3.7/dist-packages/sklearn/svm/_base.py:947: ConvergenceWarning: Liblinear failed to converge, increase the number of iterations.\n",
            "  \"the number of iterations.\", ConvergenceWarning)\n",
            "/usr/local/lib/python3.7/dist-packages/sklearn/svm/_base.py:947: ConvergenceWarning: Liblinear failed to converge, increase the number of iterations.\n",
            "  \"the number of iterations.\", ConvergenceWarning)\n",
            "/usr/local/lib/python3.7/dist-packages/sklearn/svm/_base.py:947: ConvergenceWarning: Liblinear failed to converge, increase the number of iterations.\n",
            "  \"the number of iterations.\", ConvergenceWarning)\n",
            "/usr/local/lib/python3.7/dist-packages/sklearn/svm/_base.py:947: ConvergenceWarning: Liblinear failed to converge, increase the number of iterations.\n",
            "  \"the number of iterations.\", ConvergenceWarning)\n",
            "/usr/local/lib/python3.7/dist-packages/sklearn/svm/_base.py:947: ConvergenceWarning: Liblinear failed to converge, increase the number of iterations.\n",
            "  \"the number of iterations.\", ConvergenceWarning)\n",
            "/usr/local/lib/python3.7/dist-packages/sklearn/svm/_base.py:947: ConvergenceWarning: Liblinear failed to converge, increase the number of iterations.\n",
            "  \"the number of iterations.\", ConvergenceWarning)\n",
            "/usr/local/lib/python3.7/dist-packages/sklearn/svm/_base.py:947: ConvergenceWarning: Liblinear failed to converge, increase the number of iterations.\n",
            "  \"the number of iterations.\", ConvergenceWarning)\n",
            "/usr/local/lib/python3.7/dist-packages/sklearn/svm/_base.py:947: ConvergenceWarning: Liblinear failed to converge, increase the number of iterations.\n",
            "  \"the number of iterations.\", ConvergenceWarning)\n",
            "/usr/local/lib/python3.7/dist-packages/sklearn/svm/_base.py:947: ConvergenceWarning: Liblinear failed to converge, increase the number of iterations.\n",
            "  \"the number of iterations.\", ConvergenceWarning)\n",
            "/usr/local/lib/python3.7/dist-packages/sklearn/svm/_base.py:947: ConvergenceWarning: Liblinear failed to converge, increase the number of iterations.\n",
            "  \"the number of iterations.\", ConvergenceWarning)\n",
            "/usr/local/lib/python3.7/dist-packages/sklearn/svm/_base.py:947: ConvergenceWarning: Liblinear failed to converge, increase the number of iterations.\n",
            "  \"the number of iterations.\", ConvergenceWarning)\n",
            "/usr/local/lib/python3.7/dist-packages/sklearn/svm/_base.py:947: ConvergenceWarning: Liblinear failed to converge, increase the number of iterations.\n",
            "  \"the number of iterations.\", ConvergenceWarning)\n",
            "/usr/local/lib/python3.7/dist-packages/sklearn/svm/_base.py:947: ConvergenceWarning: Liblinear failed to converge, increase the number of iterations.\n",
            "  \"the number of iterations.\", ConvergenceWarning)\n",
            "/usr/local/lib/python3.7/dist-packages/sklearn/svm/_base.py:947: ConvergenceWarning: Liblinear failed to converge, increase the number of iterations.\n",
            "  \"the number of iterations.\", ConvergenceWarning)\n",
            "/usr/local/lib/python3.7/dist-packages/sklearn/svm/_base.py:947: ConvergenceWarning: Liblinear failed to converge, increase the number of iterations.\n",
            "  \"the number of iterations.\", ConvergenceWarning)\n",
            "/usr/local/lib/python3.7/dist-packages/sklearn/svm/_base.py:947: ConvergenceWarning: Liblinear failed to converge, increase the number of iterations.\n",
            "  \"the number of iterations.\", ConvergenceWarning)\n",
            "/usr/local/lib/python3.7/dist-packages/sklearn/svm/_base.py:947: ConvergenceWarning: Liblinear failed to converge, increase the number of iterations.\n",
            "  \"the number of iterations.\", ConvergenceWarning)\n",
            "/usr/local/lib/python3.7/dist-packages/sklearn/svm/_base.py:947: ConvergenceWarning: Liblinear failed to converge, increase the number of iterations.\n",
            "  \"the number of iterations.\", ConvergenceWarning)\n",
            "/usr/local/lib/python3.7/dist-packages/sklearn/svm/_base.py:947: ConvergenceWarning: Liblinear failed to converge, increase the number of iterations.\n",
            "  \"the number of iterations.\", ConvergenceWarning)\n",
            "/usr/local/lib/python3.7/dist-packages/sklearn/svm/_base.py:947: ConvergenceWarning: Liblinear failed to converge, increase the number of iterations.\n",
            "  \"the number of iterations.\", ConvergenceWarning)\n",
            "/usr/local/lib/python3.7/dist-packages/sklearn/svm/_base.py:947: ConvergenceWarning: Liblinear failed to converge, increase the number of iterations.\n",
            "  \"the number of iterations.\", ConvergenceWarning)\n",
            "/usr/local/lib/python3.7/dist-packages/sklearn/svm/_base.py:947: ConvergenceWarning: Liblinear failed to converge, increase the number of iterations.\n",
            "  \"the number of iterations.\", ConvergenceWarning)\n",
            "/usr/local/lib/python3.7/dist-packages/sklearn/svm/_base.py:947: ConvergenceWarning: Liblinear failed to converge, increase the number of iterations.\n",
            "  \"the number of iterations.\", ConvergenceWarning)\n",
            "/usr/local/lib/python3.7/dist-packages/sklearn/svm/_base.py:947: ConvergenceWarning: Liblinear failed to converge, increase the number of iterations.\n",
            "  \"the number of iterations.\", ConvergenceWarning)\n",
            "/usr/local/lib/python3.7/dist-packages/sklearn/svm/_base.py:947: ConvergenceWarning: Liblinear failed to converge, increase the number of iterations.\n",
            "  \"the number of iterations.\", ConvergenceWarning)\n",
            "/usr/local/lib/python3.7/dist-packages/sklearn/svm/_base.py:947: ConvergenceWarning: Liblinear failed to converge, increase the number of iterations.\n",
            "  \"the number of iterations.\", ConvergenceWarning)\n",
            "/usr/local/lib/python3.7/dist-packages/sklearn/svm/_base.py:947: ConvergenceWarning: Liblinear failed to converge, increase the number of iterations.\n",
            "  \"the number of iterations.\", ConvergenceWarning)\n",
            "/usr/local/lib/python3.7/dist-packages/sklearn/svm/_base.py:947: ConvergenceWarning: Liblinear failed to converge, increase the number of iterations.\n",
            "  \"the number of iterations.\", ConvergenceWarning)\n",
            "/usr/local/lib/python3.7/dist-packages/sklearn/svm/_base.py:947: ConvergenceWarning: Liblinear failed to converge, increase the number of iterations.\n",
            "  \"the number of iterations.\", ConvergenceWarning)\n",
            "/usr/local/lib/python3.7/dist-packages/sklearn/svm/_base.py:947: ConvergenceWarning: Liblinear failed to converge, increase the number of iterations.\n",
            "  \"the number of iterations.\", ConvergenceWarning)\n",
            "/usr/local/lib/python3.7/dist-packages/sklearn/svm/_base.py:947: ConvergenceWarning: Liblinear failed to converge, increase the number of iterations.\n",
            "  \"the number of iterations.\", ConvergenceWarning)\n",
            "/usr/local/lib/python3.7/dist-packages/sklearn/svm/_base.py:947: ConvergenceWarning: Liblinear failed to converge, increase the number of iterations.\n",
            "  \"the number of iterations.\", ConvergenceWarning)\n",
            "/usr/local/lib/python3.7/dist-packages/sklearn/svm/_base.py:947: ConvergenceWarning: Liblinear failed to converge, increase the number of iterations.\n",
            "  \"the number of iterations.\", ConvergenceWarning)\n",
            "/usr/local/lib/python3.7/dist-packages/sklearn/svm/_base.py:947: ConvergenceWarning: Liblinear failed to converge, increase the number of iterations.\n",
            "  \"the number of iterations.\", ConvergenceWarning)\n",
            "/usr/local/lib/python3.7/dist-packages/sklearn/svm/_base.py:947: ConvergenceWarning: Liblinear failed to converge, increase the number of iterations.\n",
            "  \"the number of iterations.\", ConvergenceWarning)\n",
            "/usr/local/lib/python3.7/dist-packages/sklearn/svm/_base.py:947: ConvergenceWarning: Liblinear failed to converge, increase the number of iterations.\n",
            "  \"the number of iterations.\", ConvergenceWarning)\n",
            "/usr/local/lib/python3.7/dist-packages/sklearn/svm/_base.py:947: ConvergenceWarning: Liblinear failed to converge, increase the number of iterations.\n",
            "  \"the number of iterations.\", ConvergenceWarning)\n",
            "/usr/local/lib/python3.7/dist-packages/sklearn/svm/_base.py:947: ConvergenceWarning: Liblinear failed to converge, increase the number of iterations.\n",
            "  \"the number of iterations.\", ConvergenceWarning)\n",
            "/usr/local/lib/python3.7/dist-packages/sklearn/svm/_base.py:947: ConvergenceWarning: Liblinear failed to converge, increase the number of iterations.\n",
            "  \"the number of iterations.\", ConvergenceWarning)\n",
            "/usr/local/lib/python3.7/dist-packages/sklearn/svm/_base.py:947: ConvergenceWarning: Liblinear failed to converge, increase the number of iterations.\n",
            "  \"the number of iterations.\", ConvergenceWarning)\n",
            "/usr/local/lib/python3.7/dist-packages/sklearn/svm/_base.py:947: ConvergenceWarning: Liblinear failed to converge, increase the number of iterations.\n",
            "  \"the number of iterations.\", ConvergenceWarning)\n",
            "/usr/local/lib/python3.7/dist-packages/sklearn/svm/_base.py:947: ConvergenceWarning: Liblinear failed to converge, increase the number of iterations.\n",
            "  \"the number of iterations.\", ConvergenceWarning)\n",
            "/usr/local/lib/python3.7/dist-packages/sklearn/svm/_base.py:947: ConvergenceWarning: Liblinear failed to converge, increase the number of iterations.\n",
            "  \"the number of iterations.\", ConvergenceWarning)\n",
            "/usr/local/lib/python3.7/dist-packages/sklearn/svm/_base.py:947: ConvergenceWarning: Liblinear failed to converge, increase the number of iterations.\n",
            "  \"the number of iterations.\", ConvergenceWarning)\n",
            "/usr/local/lib/python3.7/dist-packages/sklearn/svm/_base.py:947: ConvergenceWarning: Liblinear failed to converge, increase the number of iterations.\n",
            "  \"the number of iterations.\", ConvergenceWarning)\n",
            "/usr/local/lib/python3.7/dist-packages/sklearn/svm/_base.py:947: ConvergenceWarning: Liblinear failed to converge, increase the number of iterations.\n",
            "  \"the number of iterations.\", ConvergenceWarning)\n",
            "/usr/local/lib/python3.7/dist-packages/sklearn/svm/_base.py:947: ConvergenceWarning: Liblinear failed to converge, increase the number of iterations.\n",
            "  \"the number of iterations.\", ConvergenceWarning)\n",
            "/usr/local/lib/python3.7/dist-packages/sklearn/svm/_base.py:947: ConvergenceWarning: Liblinear failed to converge, increase the number of iterations.\n",
            "  \"the number of iterations.\", ConvergenceWarning)\n",
            "/usr/local/lib/python3.7/dist-packages/sklearn/svm/_base.py:947: ConvergenceWarning: Liblinear failed to converge, increase the number of iterations.\n",
            "  \"the number of iterations.\", ConvergenceWarning)\n",
            "/usr/local/lib/python3.7/dist-packages/sklearn/svm/_base.py:947: ConvergenceWarning: Liblinear failed to converge, increase the number of iterations.\n",
            "  \"the number of iterations.\", ConvergenceWarning)\n",
            "/usr/local/lib/python3.7/dist-packages/sklearn/svm/_base.py:947: ConvergenceWarning: Liblinear failed to converge, increase the number of iterations.\n",
            "  \"the number of iterations.\", ConvergenceWarning)\n",
            "/usr/local/lib/python3.7/dist-packages/sklearn/svm/_base.py:947: ConvergenceWarning: Liblinear failed to converge, increase the number of iterations.\n",
            "  \"the number of iterations.\", ConvergenceWarning)\n",
            "/usr/local/lib/python3.7/dist-packages/sklearn/svm/_base.py:947: ConvergenceWarning: Liblinear failed to converge, increase the number of iterations.\n",
            "  \"the number of iterations.\", ConvergenceWarning)\n",
            "/usr/local/lib/python3.7/dist-packages/sklearn/svm/_base.py:947: ConvergenceWarning: Liblinear failed to converge, increase the number of iterations.\n",
            "  \"the number of iterations.\", ConvergenceWarning)\n",
            "/usr/local/lib/python3.7/dist-packages/sklearn/svm/_base.py:947: ConvergenceWarning: Liblinear failed to converge, increase the number of iterations.\n",
            "  \"the number of iterations.\", ConvergenceWarning)\n",
            "/usr/local/lib/python3.7/dist-packages/sklearn/svm/_base.py:947: ConvergenceWarning: Liblinear failed to converge, increase the number of iterations.\n",
            "  \"the number of iterations.\", ConvergenceWarning)\n",
            "/usr/local/lib/python3.7/dist-packages/sklearn/svm/_base.py:947: ConvergenceWarning: Liblinear failed to converge, increase the number of iterations.\n",
            "  \"the number of iterations.\", ConvergenceWarning)\n",
            "/usr/local/lib/python3.7/dist-packages/sklearn/svm/_base.py:947: ConvergenceWarning: Liblinear failed to converge, increase the number of iterations.\n",
            "  \"the number of iterations.\", ConvergenceWarning)\n",
            "/usr/local/lib/python3.7/dist-packages/sklearn/svm/_base.py:947: ConvergenceWarning: Liblinear failed to converge, increase the number of iterations.\n",
            "  \"the number of iterations.\", ConvergenceWarning)\n",
            "/usr/local/lib/python3.7/dist-packages/sklearn/svm/_base.py:947: ConvergenceWarning: Liblinear failed to converge, increase the number of iterations.\n",
            "  \"the number of iterations.\", ConvergenceWarning)\n",
            "/usr/local/lib/python3.7/dist-packages/sklearn/svm/_base.py:947: ConvergenceWarning: Liblinear failed to converge, increase the number of iterations.\n",
            "  \"the number of iterations.\", ConvergenceWarning)\n",
            "/usr/local/lib/python3.7/dist-packages/sklearn/svm/_base.py:947: ConvergenceWarning: Liblinear failed to converge, increase the number of iterations.\n",
            "  \"the number of iterations.\", ConvergenceWarning)\n",
            "/usr/local/lib/python3.7/dist-packages/sklearn/svm/_base.py:947: ConvergenceWarning: Liblinear failed to converge, increase the number of iterations.\n",
            "  \"the number of iterations.\", ConvergenceWarning)\n",
            "/usr/local/lib/python3.7/dist-packages/sklearn/svm/_base.py:947: ConvergenceWarning: Liblinear failed to converge, increase the number of iterations.\n",
            "  \"the number of iterations.\", ConvergenceWarning)\n",
            "/usr/local/lib/python3.7/dist-packages/sklearn/svm/_base.py:947: ConvergenceWarning: Liblinear failed to converge, increase the number of iterations.\n",
            "  \"the number of iterations.\", ConvergenceWarning)\n",
            "/usr/local/lib/python3.7/dist-packages/sklearn/svm/_base.py:947: ConvergenceWarning: Liblinear failed to converge, increase the number of iterations.\n",
            "  \"the number of iterations.\", ConvergenceWarning)\n",
            "/usr/local/lib/python3.7/dist-packages/sklearn/svm/_base.py:947: ConvergenceWarning: Liblinear failed to converge, increase the number of iterations.\n",
            "  \"the number of iterations.\", ConvergenceWarning)\n",
            "/usr/local/lib/python3.7/dist-packages/sklearn/svm/_base.py:947: ConvergenceWarning: Liblinear failed to converge, increase the number of iterations.\n",
            "  \"the number of iterations.\", ConvergenceWarning)\n",
            "/usr/local/lib/python3.7/dist-packages/sklearn/svm/_base.py:947: ConvergenceWarning: Liblinear failed to converge, increase the number of iterations.\n",
            "  \"the number of iterations.\", ConvergenceWarning)\n",
            "/usr/local/lib/python3.7/dist-packages/sklearn/svm/_base.py:947: ConvergenceWarning: Liblinear failed to converge, increase the number of iterations.\n",
            "  \"the number of iterations.\", ConvergenceWarning)\n",
            "/usr/local/lib/python3.7/dist-packages/sklearn/svm/_base.py:947: ConvergenceWarning: Liblinear failed to converge, increase the number of iterations.\n",
            "  \"the number of iterations.\", ConvergenceWarning)\n",
            "/usr/local/lib/python3.7/dist-packages/sklearn/svm/_base.py:947: ConvergenceWarning: Liblinear failed to converge, increase the number of iterations.\n",
            "  \"the number of iterations.\", ConvergenceWarning)\n",
            "/usr/local/lib/python3.7/dist-packages/sklearn/svm/_base.py:947: ConvergenceWarning: Liblinear failed to converge, increase the number of iterations.\n",
            "  \"the number of iterations.\", ConvergenceWarning)\n",
            "/usr/local/lib/python3.7/dist-packages/sklearn/svm/_base.py:947: ConvergenceWarning: Liblinear failed to converge, increase the number of iterations.\n",
            "  \"the number of iterations.\", ConvergenceWarning)\n",
            "/usr/local/lib/python3.7/dist-packages/sklearn/svm/_base.py:947: ConvergenceWarning: Liblinear failed to converge, increase the number of iterations.\n",
            "  \"the number of iterations.\", ConvergenceWarning)\n",
            "/usr/local/lib/python3.7/dist-packages/sklearn/svm/_base.py:947: ConvergenceWarning: Liblinear failed to converge, increase the number of iterations.\n",
            "  \"the number of iterations.\", ConvergenceWarning)\n",
            "/usr/local/lib/python3.7/dist-packages/sklearn/svm/_base.py:947: ConvergenceWarning: Liblinear failed to converge, increase the number of iterations.\n",
            "  \"the number of iterations.\", ConvergenceWarning)\n",
            "/usr/local/lib/python3.7/dist-packages/sklearn/svm/_base.py:947: ConvergenceWarning: Liblinear failed to converge, increase the number of iterations.\n",
            "  \"the number of iterations.\", ConvergenceWarning)\n",
            "/usr/local/lib/python3.7/dist-packages/sklearn/svm/_base.py:947: ConvergenceWarning: Liblinear failed to converge, increase the number of iterations.\n",
            "  \"the number of iterations.\", ConvergenceWarning)\n",
            "/usr/local/lib/python3.7/dist-packages/sklearn/svm/_base.py:947: ConvergenceWarning: Liblinear failed to converge, increase the number of iterations.\n",
            "  \"the number of iterations.\", ConvergenceWarning)\n",
            "/usr/local/lib/python3.7/dist-packages/sklearn/svm/_base.py:947: ConvergenceWarning: Liblinear failed to converge, increase the number of iterations.\n",
            "  \"the number of iterations.\", ConvergenceWarning)\n",
            "/usr/local/lib/python3.7/dist-packages/sklearn/svm/_base.py:947: ConvergenceWarning: Liblinear failed to converge, increase the number of iterations.\n",
            "  \"the number of iterations.\", ConvergenceWarning)\n",
            "/usr/local/lib/python3.7/dist-packages/sklearn/svm/_base.py:947: ConvergenceWarning: Liblinear failed to converge, increase the number of iterations.\n",
            "  \"the number of iterations.\", ConvergenceWarning)\n",
            "/usr/local/lib/python3.7/dist-packages/sklearn/svm/_base.py:947: ConvergenceWarning: Liblinear failed to converge, increase the number of iterations.\n",
            "  \"the number of iterations.\", ConvergenceWarning)\n",
            "/usr/local/lib/python3.7/dist-packages/sklearn/svm/_base.py:947: ConvergenceWarning: Liblinear failed to converge, increase the number of iterations.\n",
            "  \"the number of iterations.\", ConvergenceWarning)\n",
            "/usr/local/lib/python3.7/dist-packages/sklearn/svm/_base.py:947: ConvergenceWarning: Liblinear failed to converge, increase the number of iterations.\n",
            "  \"the number of iterations.\", ConvergenceWarning)\n",
            "/usr/local/lib/python3.7/dist-packages/sklearn/svm/_base.py:947: ConvergenceWarning: Liblinear failed to converge, increase the number of iterations.\n",
            "  \"the number of iterations.\", ConvergenceWarning)\n",
            "/usr/local/lib/python3.7/dist-packages/sklearn/svm/_base.py:947: ConvergenceWarning: Liblinear failed to converge, increase the number of iterations.\n",
            "  \"the number of iterations.\", ConvergenceWarning)\n",
            "/usr/local/lib/python3.7/dist-packages/sklearn/svm/_base.py:947: ConvergenceWarning: Liblinear failed to converge, increase the number of iterations.\n",
            "  \"the number of iterations.\", ConvergenceWarning)\n",
            "/usr/local/lib/python3.7/dist-packages/sklearn/svm/_base.py:947: ConvergenceWarning: Liblinear failed to converge, increase the number of iterations.\n",
            "  \"the number of iterations.\", ConvergenceWarning)\n",
            "/usr/local/lib/python3.7/dist-packages/sklearn/svm/_base.py:947: ConvergenceWarning: Liblinear failed to converge, increase the number of iterations.\n",
            "  \"the number of iterations.\", ConvergenceWarning)\n"
          ],
          "name": "stderr"
        },
        {
          "output_type": "execute_result",
          "data": {
            "text/plain": [
              "<matplotlib.legend.Legend at 0x7fb4a3dd5750>"
            ]
          },
          "metadata": {
            "tags": []
          },
          "execution_count": 76
        },
        {
          "output_type": "display_data",
          "data": {
            "image/png": "[encoded data removed]",
            "text/plain": [
              "<Figure size 432x288 with 1 Axes>"
            ]
          },
          "metadata": {
            "tags": []
          }
        }
      ]
    },
    {
      "cell_type": "code",
      "metadata": {
        "colab": {
          "base_uri": "https://localhost:8080/"
        },
        "id": "EyGunqGojU2w",
        "outputId": "30604b73-65f0-4582-cd52-ed7233f0c4b8"
      },
      "source": [
        "soft_margin_range = [0.1, 1, 10, 100, 1000]\n",
        "gamma_range = [1, 0.1, 0.01, 0.001, 0.0001]\n",
        "kernel = ['rbf']\n",
        "\n",
        "svm_param_grid = dict(C=soft_margin_range, gamma=gamma_range, kernel=kernel)\n",
        "\n",
        "print(svm_param_grid)"
      ],
      "execution_count": null,
      "outputs": [
        {
          "output_type": "stream",
          "text": [
            "{'C': [0.1, 1, 10, 100, 1000], 'gamma': [1, 0.1, 0.01, 0.001, 0.0001], 'kernel': ['rbf']}\n"
          ],
          "name": "stdout"
        }
      ]
    },
    {
      "cell_type": "code",
      "metadata": {
        "colab": {
          "base_uri": "https://localhost:8080/"
        },
        "id": "BuG6BQ3dn2Zj",
        "outputId": "b63ba64e-d665-4cbd-bbd6-7e833ec400ba"
      },
      "source": [
        "grid_search_svm = GridSearchCV(SVC(), svm_param_grid, refit=True)\n",
        "grid_search_svm.fit(X_ro, y_ro)"
      ],
      "execution_count": null,
      "outputs": [
        {
          "output_type": "execute_result",
          "data": {
            "text/plain": [
              "GridSearchCV(cv=None, error_score=nan,\n",
              "             estimator=SVC(C=1.0, break_ties=False, cache_size=200,\n",
              "                           class_weight=None, coef0=0.0,\n",
              "                           decision_function_shape='ovr', degree=3,\n",
              "                           gamma='scale', kernel='rbf', max_iter=-1,\n",
              "                           probability=False, random_state=None, shrinking=True,\n",
              "                           tol=0.001, verbose=False),\n",
              "             iid='deprecated', n_jobs=None,\n",
              "             param_grid={'C': [0.1, 1, 10, 100, 1000],\n",
              "                         'gamma': [1, 0.1, 0.01, 0.001, 0.0001],\n",
              "                         'kernel': ['rbf']},\n",
              "             pre_dispatch='2*n_jobs', refit=True, return_train_score=False,\n",
              "             scoring=None, verbose=0)"
            ]
          },
          "metadata": {
            "tags": []
          },
          "execution_count": 102
        }
      ]
    },
    {
      "cell_type": "code",
      "metadata": {
        "colab": {
          "base_uri": "https://localhost:8080/"
        },
        "id": "EsAxTMk8q1DA",
        "outputId": "3edd9c99-a28b-4e7d-bbab-426641d7b213"
      },
      "source": [
        "grid_search_svm.cv_results_"
      ],
      "execution_count": null,
      "outputs": [
        {
          "output_type": "execute_result",
          "data": {
            "text/plain": [
              "{'mean_fit_time': array([1.78041801, 1.93417916, 1.19481912, 1.09108276, 1.08845463,\n",
              "        0.99643264, 1.20818052, 0.87317595, 1.14958997, 1.08488693,\n",
              "        0.94178963, 1.09591069, 0.6373364 , 1.31643691, 1.2260426 ,\n",
              "        0.94025507, 1.10285974, 0.73894577, 2.33711314, 1.77005692,\n",
              "        0.94372935, 1.09883599, 0.83319321, 9.41212654, 5.11418223]),\n",
              " 'mean_score_time': array([0.31295333, 0.33257384, 0.18718486, 0.16410041, 0.17664833,\n",
              "        0.17663245, 0.17552032, 0.1272635 , 0.15209842, 0.16505141,\n",
              "        0.16778221, 0.16240745, 0.07462645, 0.14921794, 0.15800228,\n",
              "        0.16696477, 0.16083207, 0.05940261, 0.1360589 , 0.15798669,\n",
              "        0.16713071, 0.15786242, 0.05944209, 0.12964191, 0.15183954]),\n",
              " 'mean_test_score': array([0.99289944, 0.97801693, 0.82564315, 0.78263349, 0.77266687,\n",
              "        0.99986348, 0.99057862, 0.90224034, 0.79123604, 0.77853783,\n",
              "        0.99986348, 0.99235374, 0.96176989, 0.83438119, 0.78795884,\n",
              "        0.99986348, 0.99221722, 0.97201011, 0.88721927, 0.80161258,\n",
              "        0.99986348, 0.99221722, 0.97351172, 0.93022958, 0.82523331]),\n",
              " 'param_C': masked_array(data=[0.1, 0.1, 0.1, 0.1, 0.1, 1, 1, 1, 1, 1, 10, 10, 10, 10,\n",
              "                    10, 100, 100, 100, 100, 100, 1000, 1000, 1000, 1000,\n",
              "                    1000],\n",
              "              mask=[False, False, False, False, False, False, False, False,\n",
              "                    False, False, False, False, False, False, False, False,\n",
              "                    False, False, False, False, False, False, False, False,\n",
              "                    False],\n",
              "        fill_value='?',\n",
              "             dtype=object),\n",
              " 'param_gamma': masked_array(data=[1, 0.1, 0.01, 0.001, 0.0001, 1, 0.1, 0.01, 0.001,\n",
              "                    0.0001, 1, 0.1, 0.01, 0.001, 0.0001, 1, 0.1, 0.01,\n",
              "                    0.001, 0.0001, 1, 0.1, 0.01, 0.001, 0.0001],\n",
              "              mask=[False, False, False, False, False, False, False, False,\n",
              "                    False, False, False, False, False, False, False, False,\n",
              "                    False, False, False, False, False, False, False, False,\n",
              "                    False],\n",
              "        fill_value='?',\n",
              "             dtype=object),\n",
              " 'param_kernel': masked_array(data=['rbf', 'rbf', 'rbf', 'rbf', 'rbf', 'rbf', 'rbf', 'rbf',\n",
              "                    'rbf', 'rbf', 'rbf', 'rbf', 'rbf', 'rbf', 'rbf', 'rbf',\n",
              "                    'rbf', 'rbf', 'rbf', 'rbf', 'rbf', 'rbf', 'rbf', 'rbf',\n",
              "                    'rbf'],\n",
              "              mask=[False, False, False, False, False, False, False, False,\n",
              "                    False, False, False, False, False, False, False, False,\n",
              "                    False, False, False, False, False, False, False, False,\n",
              "                    False],\n",
              "        fill_value='?',\n",
              "             dtype=object),\n",
              " 'params': [{'C': 0.1, 'gamma': 1, 'kernel': 'rbf'},\n",
              "  {'C': 0.1, 'gamma': 0.1, 'kernel': 'rbf'},\n",
              "  {'C': 0.1, 'gamma': 0.01, 'kernel': 'rbf'},\n",
              "  {'C': 0.1, 'gamma': 0.001, 'kernel': 'rbf'},\n",
              "  {'C': 0.1, 'gamma': 0.0001, 'kernel': 'rbf'},\n",
              "  {'C': 1, 'gamma': 1, 'kernel': 'rbf'},\n",
              "  {'C': 1, 'gamma': 0.1, 'kernel': 'rbf'},\n",
              "  {'C': 1, 'gamma': 0.01, 'kernel': 'rbf'},\n",
              "  {'C': 1, 'gamma': 0.001, 'kernel': 'rbf'},\n",
              "  {'C': 1, 'gamma': 0.0001, 'kernel': 'rbf'},\n",
              "  {'C': 10, 'gamma': 1, 'kernel': 'rbf'},\n",
              "  {'C': 10, 'gamma': 0.1, 'kernel': 'rbf'},\n",
              "  {'C': 10, 'gamma': 0.01, 'kernel': 'rbf'},\n",
              "  {'C': 10, 'gamma': 0.001, 'kernel': 'rbf'},\n",
              "  {'C': 10, 'gamma': 0.0001, 'kernel': 'rbf'},\n",
              "  {'C': 100, 'gamma': 1, 'kernel': 'rbf'},\n",
              "  {'C': 100, 'gamma': 0.1, 'kernel': 'rbf'},\n",
              "  {'C': 100, 'gamma': 0.01, 'kernel': 'rbf'},\n",
              "  {'C': 100, 'gamma': 0.001, 'kernel': 'rbf'},\n",
              "  {'C': 100, 'gamma': 0.0001, 'kernel': 'rbf'},\n",
              "  {'C': 1000, 'gamma': 1, 'kernel': 'rbf'},\n",
              "  {'C': 1000, 'gamma': 0.1, 'kernel': 'rbf'},\n",
              "  {'C': 1000, 'gamma': 0.01, 'kernel': 'rbf'},\n",
              "  {'C': 1000, 'gamma': 0.001, 'kernel': 'rbf'},\n",
              "  {'C': 1000, 'gamma': 0.0001, 'kernel': 'rbf'}],\n",
              " 'rank_test_score': array([ 5, 10, 18, 23, 25,  1,  9, 15, 21, 24,  1,  6, 13, 17, 22,  1,  7,\n",
              "        12, 16, 20,  1,  7, 11, 14, 19], dtype=int32),\n",
              " 'split0_test_score': array([0.99726962, 0.98361775, 0.82798635, 0.78225256, 0.77064846,\n",
              "        1.        , 0.99112628, 0.90238908, 0.78634812, 0.7774744 ,\n",
              "        1.        , 0.99317406, 0.96245734, 0.83754266, 0.78703072,\n",
              "        1.        , 0.99317406, 0.97542662, 0.89283276, 0.7890785 ,\n",
              "        1.        , 0.99317406, 0.97406143, 0.93037543, 0.82525597]),\n",
              " 'split1_test_score': array([0.99112628, 0.9774744 , 0.82593857, 0.78225256, 0.77064846,\n",
              "        0.99931741, 0.99317406, 0.90170648, 0.79180887, 0.778157  ,\n",
              "        0.99931741, 0.99385666, 0.96109215, 0.83617747, 0.79112628,\n",
              "        0.99931741, 0.99385666, 0.97064846, 0.89624573, 0.80477816,\n",
              "        0.99931741, 0.99385666, 0.97542662, 0.93515358, 0.82935154]),\n",
              " 'split2_test_score': array([0.99112628, 0.97883959, 0.82662116, 0.77406143, 0.76450512,\n",
              "        1.        , 0.99044369, 0.89488055, 0.78225256, 0.77269625,\n",
              "        1.        , 0.99112628, 0.96040956, 0.8225256 , 0.78020478,\n",
              "        1.        , 0.99112628, 0.96791809, 0.88464164, 0.79726962,\n",
              "        1.        , 0.99112628, 0.96928328, 0.92286689, 0.81296928]),\n",
              " 'split3_test_score': array([0.99658703, 0.97610922, 0.8116041 , 0.78430034, 0.77269625,\n",
              "        1.        , 0.98976109, 0.90170648, 0.79180887, 0.77474403,\n",
              "        1.        , 0.99249147, 0.96040956, 0.8334471 , 0.78293515,\n",
              "        1.        , 0.99180887, 0.97201365, 0.88122867, 0.80477816,\n",
              "        1.        , 0.99180887, 0.97542662, 0.93105802, 0.82457338]),\n",
              " 'split4_test_score': array([0.98838798, 0.97404372, 0.83606557, 0.79030055, 0.78483607,\n",
              "        1.        , 0.98838798, 0.91051913, 0.80396175, 0.78961749,\n",
              "        1.        , 0.99112022, 0.96448087, 0.84221311, 0.79849727,\n",
              "        1.        , 0.99112022, 0.97404372, 0.88114754, 0.81215847,\n",
              "        1.        , 0.99112022, 0.97336066, 0.93169399, 0.83401639]),\n",
              " 'std_fit_time': array([0.04661337, 0.00819534, 0.01313909, 0.00521042, 0.00625031,\n",
              "        0.00829828, 0.0562601 , 0.00713111, 0.01821112, 0.00822168,\n",
              "        0.00664843, 0.00422177, 0.00773428, 0.0252309 , 0.02077343,\n",
              "        0.00657713, 0.00812707, 0.0252565 , 0.20149913, 0.09639368,\n",
              "        0.00791617, 0.00287297, 0.02974418, 1.10033228, 0.30218623]),\n",
              " 'std_score_time': array([0.0052095 , 0.0030541 , 0.00139424, 0.00304105, 0.00347121,\n",
              "        0.00198609, 0.00112912, 0.00157392, 0.00211691, 0.00267118,\n",
              "        0.0027325 , 0.00590159, 0.00115718, 0.00349237, 0.00299412,\n",
              "        0.00224965, 0.00323859, 0.0010113 , 0.00320033, 0.00320365,\n",
              "        0.00269994, 0.00114983, 0.00142284, 0.0028268 , 0.00243311]),\n",
              " 'std_test_score': array([0.00344495, 0.00321764, 0.00790261, 0.00520255, 0.00667611,\n",
              "        0.00027304, 0.00158251, 0.00496582, 0.00731019, 0.00587455,\n",
              "        0.00027304, 0.00109352, 0.00154805, 0.00657249, 0.00643918,\n",
              "        0.00027304, 0.00111028, 0.00262324, 0.006203  , 0.00783865,\n",
              "        0.00027304, 0.00111028, 0.00226002, 0.00403254, 0.00699921])}"
            ]
          },
          "metadata": {
            "tags": []
          },
          "execution_count": 103
        }
      ]
    },
    {
      "cell_type": "code",
      "metadata": {
        "colab": {
          "base_uri": "https://localhost:8080/"
        },
        "id": "W_u-R0K6qgzi",
        "outputId": "1be3c3f0-4704-4a11-adbc-d0cff16f0aca"
      },
      "source": [
        "scores_svm = grid_search_svm.cv_results_['mean_test_score']\n",
        "print(scores_svm)"
      ],
      "execution_count": null,
      "outputs": [
        {
          "output_type": "stream",
          "text": [
            "[0.99289944 0.97801693 0.82564315 0.78263349 0.77266687 0.99986348\n",
            " 0.99057862 0.90224034 0.79123604 0.77853783 0.99986348 0.99235374\n",
            " 0.96176989 0.83438119 0.78795884 0.99986348 0.99221722 0.97201011\n",
            " 0.88721927 0.80161258 0.99986348 0.99221722 0.97351172 0.93022958\n",
            " 0.82523331]\n"
          ],
          "name": "stdout"
        }
      ]
    },
    {
      "cell_type": "code",
      "metadata": {
        "colab": {
          "base_uri": "https://localhost:8080/"
        },
        "id": "8DbZC6CnrNxN",
        "outputId": "20321674-a2fc-4cd3-bed7-2b413cc20e36"
      },
      "source": [
        "print(grid_search_svm.best_score_)\n",
        "\n",
        "print(grid_search_svm.best_params_)\n",
        "\n",
        "best_params_svm = grid_search_svm.best_params_"
      ],
      "execution_count": null,
      "outputs": [
        {
          "output_type": "stream",
          "text": [
            "0.9998634812286689\n",
            "{'C': 1, 'gamma': 1, 'kernel': 'rbf'}\n"
          ],
          "name": "stdout"
        }
      ]
    },
    {
      "cell_type": "code",
      "metadata": {
        "id": "2-ea-ox4sFYP"
      },
      "source": [
        "svm = SVC(C=1, gamma=1, kernel='rbf')\n",
        "svm.fit(X_ro, y_ro)\n",
        "\n",
        "predict_svm = svm.predict(Xtest)"
      ],
      "execution_count": null,
      "outputs": []
    },
    {
      "cell_type": "code",
      "metadata": {
        "colab": {
          "base_uri": "https://localhost:8080/"
        },
        "id": "d5UaiVBGsGIw",
        "outputId": "0a2d218a-e16b-4a21-8ca1-422eb6321088"
      },
      "source": [
        "accuracy_score(predict_svm, ytest)"
      ],
      "execution_count": null,
      "outputs": [
        {
          "output_type": "execute_result",
          "data": {
            "text/plain": [
              "0.9374021909233177"
            ]
          },
          "metadata": {
            "tags": []
          },
          "execution_count": 107
        }
      ]
    },
    {
      "cell_type": "code",
      "metadata": {
        "colab": {
          "base_uri": "https://localhost:8080/"
        },
        "id": "8bM2hT1ntwI6",
        "outputId": "645de7dc-2a8a-4d9d-91d0-a1501be275e0"
      },
      "source": [
        "confusion_matrix(ytest, predict_svm)"
      ],
      "execution_count": null,
      "outputs": [
        {
          "output_type": "execute_result",
          "data": {
            "text/plain": [
              "array([[1198,    0],\n",
              "       [  80,    0]])"
            ]
          },
          "metadata": {
            "tags": []
          },
          "execution_count": 108
        }
      ]
    },
    {
      "cell_type": "code",
      "metadata": {
        "colab": {
          "base_uri": "https://localhost:8080/"
        },
        "id": "th8nZ2-230j2",
        "outputId": "103b6c4d-e52f-40f4-9d2a-a5406f4e29f2"
      },
      "source": [
        "print(precision_score(ytest, predict_svm))\n",
        "print(recall_score(ytest, predict_svm))\n",
        "print(f1_score(ytest, predict_svm))"
      ],
      "execution_count": null,
      "outputs": [
        {
          "output_type": "stream",
          "text": [
            "0.0\n",
            "0.0\n",
            "0.0\n"
          ],
          "name": "stdout"
        },
        {
          "output_type": "stream",
          "text": [
            "/usr/local/lib/python3.7/dist-packages/sklearn/metrics/_classification.py:1272: UndefinedMetricWarning: Precision is ill-defined and being set to 0.0 due to no predicted samples. Use `zero_division` parameter to control this behavior.\n",
            "  _warn_prf(average, modifier, msg_start, len(result))\n"
          ],
          "name": "stderr"
        }
      ]
    },
    {
      "cell_type": "code",
      "metadata": {
        "id": "yrlYeSqVh7Nm"
      },
      "source": [
        "# entrainement du modèle de svm linéar classification\n",
        "lsvc = LinearSVC()\n",
        "lsvc.fit(X_ro, y_ro)RandomForestClassifier\n",
        "\n",
        "#Affichage des résultats\n",
        "y_pred = lsvc.predict(Xtest)\n",
        "\n",
        "print(classification_report_imbalanced(ytest, y_pred))\n"
      ],
      "execution_count": null,
      "outputs": []
    }
  ]
}